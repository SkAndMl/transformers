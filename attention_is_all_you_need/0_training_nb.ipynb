{
 "cells": [
  {
   "cell_type": "code",
   "execution_count": 1,
   "metadata": {},
   "outputs": [],
   "source": [
    "import torch\n",
    "from torch import nn\n",
    "import torchtext\n",
    "import numpy as np\n",
    "\n",
    "import random\n",
    "import math\n",
    "from typing import Optional, List, Dict, Tuple, Iterable\n",
    "from tqdm.auto import tqdm\n",
    "import matplotlib.pyplot as plt\n",
    "from torchinfo import summary\n",
    "\n",
    "from torch.nn.utils.rnn import pad_sequence"
   ]
  },
  {
   "attachments": {},
   "cell_type": "markdown",
   "metadata": {},
   "source": [
    "# Building the Transformer"
   ]
  },
  {
   "attachments": {},
   "cell_type": "markdown",
   "metadata": {},
   "source": [
    "The transformer is broken down into the following parts:\n",
    "* Embedding\n",
    "    * Positional Embedding\n",
    "    * Token Embedding\n",
    "* Multihead Attention Block\n",
    "    * Multihead attention\n",
    "    * Residual Connection with normalization\n",
    "* Position-Wise FeedForward Block\n",
    "    * Fully connected block\n",
    "    * Residual Connection with normalization\n",
    "* Encoder Block: Input Embedding -> [MultiHeadAttention -> Position-Wise FeedForward Block] x N\n",
    "* Decoder Block: Output Embedding -> [MaskedMultiHeadAttention -> CrossMultiHeadAttention -> Position-Wise FeedForward Block] x N\n",
    "* Output of the transformer: Decoder output (logits) -> Feed Foward layer -> Softmax"
   ]
  },
  {
   "attachments": {},
   "cell_type": "markdown",
   "metadata": {},
   "source": [
    "## Embedding"
   ]
  },
  {
   "cell_type": "code",
   "execution_count": 2,
   "metadata": {},
   "outputs": [],
   "source": [
    "class Embedding(nn.Module):\n",
    "\n",
    "    def __init__(self,\n",
    "                 d_model: int=512,\n",
    "                 vocab_size: int=1000,\n",
    "                 max_seq_len: int=10,\n",
    "                 dropout: float=0.1):\n",
    "        \n",
    "        super().__init__()\n",
    "        self.d_model = d_model\n",
    "        self.vocab_size = vocab_size\n",
    "\n",
    "        self.embedding = nn.Embedding(num_embeddings=vocab_size,\n",
    "                                      embedding_dim=d_model)\n",
    "        self.pe = torch.zeros(max_seq_len, d_model, requires_grad=False)\n",
    "        \n",
    "        # calculating position embedding as it is does not vary depending on the input tokens\n",
    "        for i in range(max_seq_len):\n",
    "            for j in range(d_model):\n",
    "                if j%2==0:\n",
    "                    self.pe[i, j] = math.sin(i/(10000**(2*j/d_model)))\n",
    "                else:\n",
    "                    self.pe[i, j] = math.cos(i/(10000**(2*j/d_model)))\n",
    "        \n",
    "        self.pe = self.pe.unsqueeze(0)\n",
    "        self.dropout = nn.Dropout(p=dropout)\n",
    "    \n",
    "    def forward(self, x: torch.Tensor) -> torch.Tensor:\n",
    "        # x -> [batch_size, seq_len]\n",
    "        embed_out = self.embedding(x) # embed_out -> [batch_size, seq_len, ]\n",
    "        return self.dropout(self.pe[:, embed_out.size(1), :] + embed_out)"
   ]
  },
  {
   "attachments": {},
   "cell_type": "markdown",
   "metadata": {},
   "source": [
    "## MultiHead Attention Block"
   ]
  },
  {
   "attachments": {},
   "cell_type": "markdown",
   "metadata": {},
   "source": [
    "### Multihead Attention Layer"
   ]
  },
  {
   "cell_type": "code",
   "execution_count": 3,
   "metadata": {},
   "outputs": [],
   "source": [
    "class MultiHeadAttentionLayer(nn.Module):\n",
    "\n",
    "    def __init__(self, \n",
    "                 d_model: int=512,\n",
    "                 num_heads: int=8):\n",
    "        \n",
    "        super().__init__()\n",
    "        self.d_model = d_model\n",
    "        self.num_heads = num_heads\n",
    "\n",
    "        assert d_model%num_heads == 0, f\"Dimensionality of the model {d_model} should be divisible by the number of heads {num_heads}\"\n",
    "\n",
    "        self.W_v = nn.Linear(d_model, d_model)\n",
    "        self.W_k = nn.Linear(d_model, d_model)\n",
    "        self.W_q = nn.Linear(d_model, d_model)\n",
    "        self.W_o = nn.Linear(d_model, d_model)\n",
    "    \n",
    "    @staticmethod\n",
    "    def scaled_dot_product_attention(query: torch.Tensor,\n",
    "                                     key: torch.Tensor,\n",
    "                                     value: torch.Tensor,\n",
    "                                     mask=None) -> Tuple[torch.Tensor, torch.Tensor]:\n",
    "        # query = key = value -> [batch, query_len/key_len/value_len, num_heads, d_k]\n",
    "        d_k = query.size(-1)\n",
    "        compatability = torch.einsum(\"bqhd,bkhd->bhqk\", [query, key]) # compatability -> [batch, num_heads, query_len, key_len]\n",
    "        if mask is not None:\n",
    "            compatability = compatability.masked_fill(mask==0, -float(\"inf\"))\n",
    "        compatability = torch.softmax(compatability, dim=-1)/math.sqrt(d_k)\n",
    "        x = torch.einsum(\"bhqk,bkhd->bqhd\", [compatability, value]) # x -> [batch, query_len, num_heads, d_k]\n",
    "        return x, compatability\n",
    "    \n",
    "    def forward(self,\n",
    "                query: torch.Tensor,\n",
    "                key: torch.Tensor,\n",
    "                value: torch.Tensor,\n",
    "                mask=None):\n",
    "        \n",
    "        b, query_len, key_len, d_k = query.shape[0], query.shape[1], key.shape[1], self.d_model//self.num_heads \n",
    "        query, key, value = self.W_q(query), self.W_k(key), self.W_v(value)\n",
    "        query = query.view(b, query_len, self.num_heads, d_k)\n",
    "        key = key.view(b, key_len, self.num_heads, d_k)\n",
    "        value = value.view(b, key_len, self.num_heads, d_k)\n",
    "        x, _ = MultiHeadAttentionLayer.scaled_dot_product_attention(query, key, value, mask)\n",
    "        return self.W_o(x.reshape(b, query_len, self.d_model))\n",
    "    "
   ]
  },
  {
   "attachments": {},
   "cell_type": "markdown",
   "metadata": {},
   "source": [
    "### MHA Layer + Residual Connection"
   ]
  },
  {
   "cell_type": "code",
   "execution_count": 4,
   "metadata": {},
   "outputs": [],
   "source": [
    "class MultiHeadAttentionBlock(nn.Module):\n",
    "\n",
    "    def __init__(self,\n",
    "                 d_model: int=512,\n",
    "                 num_heads: int=8,\n",
    "                 dropout: float=0.1) -> None:\n",
    "        super().__init__()\n",
    "        self.multihead_attention = MultiHeadAttentionLayer(d_model, num_heads)\n",
    "        self.dropout = nn.Dropout(dropout)\n",
    "        self.layer_norm = nn.LayerNorm(normalized_shape=d_model)\n",
    "    \n",
    "    def forward(self, query: torch.Tensor, key: torch.Tensor, value: torch.Tensor, mask=None) -> torch.Tensor:\n",
    "        return self.layer_norm(query + self.dropout(self.multihead_attention(query, key, value, mask)))"
   ]
  },
  {
   "attachments": {},
   "cell_type": "markdown",
   "metadata": {},
   "source": [
    "## Position-Wise FeedForward Block"
   ]
  },
  {
   "cell_type": "code",
   "execution_count": 5,
   "metadata": {},
   "outputs": [],
   "source": [
    "class FeedForwardBlock(nn.Module):\n",
    "\n",
    "    def __init__(self,\n",
    "                 d_model: int=512,\n",
    "                 d_ff: int=2048,\n",
    "                 dropout: float=0.1) -> None:\n",
    "        \n",
    "        super().__init__()\n",
    "        self.fc = nn.Sequential(\n",
    "            nn.Linear(d_model, d_ff),\n",
    "            nn.ReLU(),\n",
    "            nn.Linear(d_ff, d_model)\n",
    "        )\n",
    "        self.dropout = nn.Dropout(p=dropout)\n",
    "        self.layer_norm = nn.LayerNorm(normalized_shape=d_model)\n",
    "    \n",
    "    def forward(self, x: torch.Tensor) -> torch.Tensor:\n",
    "        return self.layer_norm(x + self.dropout(self.fc(x)))"
   ]
  },
  {
   "attachments": {},
   "cell_type": "markdown",
   "metadata": {},
   "source": [
    "## Encoder"
   ]
  },
  {
   "attachments": {},
   "cell_type": "markdown",
   "metadata": {},
   "source": [
    "### Encoder Layer"
   ]
  },
  {
   "cell_type": "code",
   "execution_count": 6,
   "metadata": {},
   "outputs": [],
   "source": [
    "class TransformerEncoderLayer(nn.Module):\n",
    "\n",
    "    def __init__(self,\n",
    "                 d_model: int=512,\n",
    "                 num_heads: int=8,\n",
    "                 d_ff: int=2048,\n",
    "                 attn_dropout: float=0.1,\n",
    "                 ff_dropout: float=0.1) -> None:\n",
    "        \n",
    "        super().__init__()\n",
    "        self.multihead_attention_block = MultiHeadAttentionBlock(d_model, num_heads, attn_dropout)\n",
    "        self.ff_block = FeedForwardBlock(d_model, d_ff, ff_dropout)\n",
    "    \n",
    "    def forward(self, x: torch.Tensor, mask=None) -> torch.Tensor:\n",
    "\n",
    "        return self.ff_block(self.multihead_attention_block(x, x, x, mask))"
   ]
  },
  {
   "attachments": {},
   "cell_type": "markdown",
   "metadata": {},
   "source": [
    "### Encoder Block"
   ]
  },
  {
   "cell_type": "code",
   "execution_count": 7,
   "metadata": {},
   "outputs": [],
   "source": [
    "class TransformerEncoder(nn.Module):\n",
    "\n",
    "    def __init__(self,\n",
    "                 num_encoders: int=6,\n",
    "                 d_model: int=512,\n",
    "                 num_heads: int=8,\n",
    "                 d_ff: int=2048,\n",
    "                 attn_dropout: float=0.1,\n",
    "                 ff_dropout: float=0.1) -> None:\n",
    "        \n",
    "        super().__init__()\n",
    "        self.num_encoders = num_encoders\n",
    "        self.encoders = nn.ModuleList([TransformerEncoderLayer(d_model, num_heads, d_ff, attn_dropout, ff_dropout) for _ in range(num_encoders)])\n",
    "    \n",
    "    def forward(self, x: torch.Tensor, mask=None) -> torch.Tensor:\n",
    "\n",
    "        for i in range(self.num_encoders):\n",
    "            x = self.encoders[i](x, mask)\n",
    "        return x"
   ]
  },
  {
   "attachments": {},
   "cell_type": "markdown",
   "metadata": {},
   "source": [
    "## Decoder"
   ]
  },
  {
   "attachments": {},
   "cell_type": "markdown",
   "metadata": {},
   "source": [
    "### Decoder Layer"
   ]
  },
  {
   "cell_type": "code",
   "execution_count": 8,
   "metadata": {},
   "outputs": [],
   "source": [
    "class TransformerDecoderLayer(nn.Module):\n",
    "\n",
    "    def __init__(self,\n",
    "                 d_model: int=512,\n",
    "                 num_heads: int=8,\n",
    "                 d_ff: int=2048,\n",
    "                 attn_dropout: float=0.1,\n",
    "                 ff_dropout: float=0.1) -> None:\n",
    "        \n",
    "        super().__init__()\n",
    "        self.multihead_attention_block = MultiHeadAttentionBlock(d_model, num_heads, attn_dropout)\n",
    "        self.cross_attention_block = MultiHeadAttentionBlock(d_model, num_heads, attn_dropout)\n",
    "        self.ff_block = FeedForwardBlock(d_model, d_ff, ff_dropout)\n",
    "    \n",
    "    def forward(self, x: torch.Tensor, encoder_output: torch.Tensor, src_mask=None, tgt_mask=None) -> torch.Tensor:\n",
    "        x = self.multihead_attention_block(x, x, x, tgt_mask)\n",
    "        x = self.cross_attention_block(x, encoder_output, encoder_output, src_mask)\n",
    "        return self.ff_block(x)"
   ]
  },
  {
   "attachments": {},
   "cell_type": "markdown",
   "metadata": {},
   "source": [
    "### Decoder Block"
   ]
  },
  {
   "cell_type": "code",
   "execution_count": 9,
   "metadata": {},
   "outputs": [],
   "source": [
    "class TransformerDecoder(nn.Module):\n",
    "\n",
    "    def __init__(self,\n",
    "                 num_decoders: int=6,\n",
    "                 d_model: int=512,\n",
    "                 num_heads: int=8,\n",
    "                 d_ff: int=2048,\n",
    "                 attn_dropout: float=0.1,\n",
    "                 ff_dropout: float=0.1) -> None:\n",
    "        \n",
    "        super().__init__()\n",
    "        self.num_decoders = num_decoders\n",
    "        self.decoders = nn.ModuleList([TransformerDecoderLayer(d_model, num_heads, d_ff, attn_dropout, ff_dropout) for _ in range(num_decoders)])\n",
    "    \n",
    "    def forward(self, x: torch.Tensor, encoder_output: torch.Tensor, src_mask=None, tgt_mask=None) -> torch.Tensor:\n",
    "\n",
    "        for i in range(self.num_decoders):\n",
    "            x = self.decoders[i](x, encoder_output, src_mask, tgt_mask)\n",
    "        return x"
   ]
  },
  {
   "attachments": {},
   "cell_type": "markdown",
   "metadata": {},
   "source": [
    "## Putting together everything"
   ]
  },
  {
   "cell_type": "code",
   "execution_count": 10,
   "metadata": {},
   "outputs": [],
   "source": [
    "class Transformer(nn.Module):\n",
    "\n",
    "    def __init__(self,\n",
    "                 num_encoders: int=6,\n",
    "                 num_decoders: int=6,\n",
    "                 output_size: int=1000,\n",
    "                 d_model: int=512,\n",
    "                 num_heads: int=8,\n",
    "                 d_ff: int=2048,\n",
    "                 attn_dropout: float=0.1,\n",
    "                 ff_dropout: float=0.1) -> None:\n",
    "        \n",
    "        super().__init__()\n",
    "        self.encoder = TransformerEncoder(num_encoders, d_model, num_heads, d_ff, attn_dropout, ff_dropout)\n",
    "        self.decoder = TransformerDecoder(num_decoders, d_model, num_heads, d_ff, attn_dropout, ff_dropout)\n",
    "        self.projection = nn.Linear(d_model, output_size)\n",
    "    \n",
    "    def forward(self, src: torch.Tensor, tgt: torch.Tensor, src_mask=None, tgt_mask=None) -> torch.Tensor:\n",
    "        encoder_output = self.encoder(src, src_mask)\n",
    "        return self.projection(self.decoder(tgt, encoder_output, src_mask, tgt_mask))"
   ]
  },
  {
   "attachments": {},
   "cell_type": "markdown",
   "metadata": {},
   "source": [
    "# Training"
   ]
  },
  {
   "attachments": {},
   "cell_type": "markdown",
   "metadata": {},
   "source": [
    "## Preparing data"
   ]
  },
  {
   "cell_type": "code",
   "execution_count": 11,
   "metadata": {},
   "outputs": [],
   "source": [
    "train_iter = torchtext.datasets.Multi30k(split=\"train\")\n",
    "test_iter = torchtext.datasets.Multi30k(split=\"test\")"
   ]
  },
  {
   "cell_type": "code",
   "execution_count": 12,
   "metadata": {},
   "outputs": [],
   "source": [
    "src_tokenizer = torchtext.data.utils.get_tokenizer(\"spacy\", language=\"de_core_news_sm\")\n",
    "tgt_tokenizer = torchtext.data.utils.get_tokenizer(\"spacy\", language=\"en_core_web_sm\")"
   ]
  },
  {
   "cell_type": "code",
   "execution_count": 13,
   "metadata": {},
   "outputs": [
    {
     "data": {
      "text/plain": [
       "['Hi', 'there']"
      ]
     },
     "execution_count": 13,
     "metadata": {},
     "output_type": "execute_result"
    }
   ],
   "source": [
    "tgt_tokenizer(\"Hi there\")"
   ]
  },
  {
   "cell_type": "code",
   "execution_count": 14,
   "metadata": {},
   "outputs": [
    {
     "name": "stderr",
     "output_type": "stream",
     "text": [
      "/Users/sathyakrishnansuresh/miniforge3/envs/tf/lib/python3.11/site-packages/torch/utils/data/datapipes/iter/combining.py:297: UserWarning: Some child DataPipes are not exhausted when __iter__ is called. We are resetting the buffer and each child DataPipe will read from the start again.\n",
      "  warnings.warn(\"Some child DataPipes are not exhausted when __iter__ is called. We are resetting \"\n"
     ]
    }
   ],
   "source": [
    "PAD_IDX, UNK_IDX, SOS_IDX, EOS_IDX = 0, 1, 2, 3\n",
    "specials = ['<unk>', '<pad>', '<sos>', '<eos>']\n",
    "\n",
    "def build_vocab(data_iter, tokenizer, lang_idx):\n",
    "    for instance in data_iter:\n",
    "        yield tokenizer(instance[lang_idx])\n",
    "\n",
    "\n",
    "src_vocab = torchtext.vocab.build_vocab_from_iterator(build_vocab(train_iter, src_tokenizer, 0),\n",
    "                                                      min_freq=1,\n",
    "                                                      special_first=True,\n",
    "                                                      specials=specials)\n",
    "tgt_vocab = torchtext.vocab.build_vocab_from_iterator(build_vocab(train_iter, tgt_tokenizer, 1),\n",
    "                                                      min_freq=1,\n",
    "                                                      special_first=True,\n",
    "                                                      specials=specials)\n",
    "\n",
    "src_vocab.set_default_index(UNK_IDX)\n",
    "tgt_vocab.set_default_index(UNK_IDX)"
   ]
  },
  {
   "cell_type": "code",
   "execution_count": 15,
   "metadata": {},
   "outputs": [
    {
     "data": {
      "text/plain": [
       "tensor([   2,    1, 8920,   15,  889,   17, 1328, 2470,    3])"
      ]
     },
     "execution_count": 15,
     "metadata": {},
     "output_type": "execute_result"
    }
   ],
   "source": [
    "a = \"Hey hi, how are you?\"\n",
    "a_tok = tgt_tokenizer(a)\n",
    "a_voc = tgt_vocab(a_tok)\n",
    "torch.cat((torch.tensor([SOS_IDX]), torch.tensor(a_voc), torch.tensor([EOS_IDX])))"
   ]
  },
  {
   "cell_type": "code",
   "execution_count": 16,
   "metadata": {},
   "outputs": [],
   "source": [
    "def transform(sentence: str, lang_idx: int):\n",
    "    if lang_idx == 0:\n",
    "        tokens = src_tokenizer(sentence)\n",
    "        token_ids = src_vocab(tokens)\n",
    "        return torch.cat((torch.tensor([SOS_IDX]),\n",
    "                          torch.tensor(token_ids),\n",
    "                          torch.tensor([EOS_IDX])))\n",
    "    else:\n",
    "        tokens = tgt_tokenizer(sentence)\n",
    "        token_ids = tgt_vocab(tokens)\n",
    "        return torch.cat((torch.tensor([SOS_IDX]),\n",
    "                          torch.tensor(token_ids),\n",
    "                          torch.tensor([EOS_IDX])))"
   ]
  },
  {
   "cell_type": "code",
   "execution_count": 17,
   "metadata": {},
   "outputs": [
    {
     "data": {
      "text/plain": [
       "tensor([   2,    1, 8920,   15,  889,   17, 1328, 2470,    3])"
      ]
     },
     "execution_count": 17,
     "metadata": {},
     "output_type": "execute_result"
    }
   ],
   "source": [
    "transform(a, 1)"
   ]
  },
  {
   "cell_type": "code",
   "execution_count": 18,
   "metadata": {},
   "outputs": [
    {
     "data": {
      "text/plain": [
       "tensor([[0, 1, 2],\n",
       "        [0, 1, 0]])"
      ]
     },
     "execution_count": 18,
     "metadata": {},
     "output_type": "execute_result"
    }
   ],
   "source": [
    "a = [\n",
    "    torch.tensor([0, 1, 2]),\n",
    "    torch.tensor([0, 1])    \n",
    "]\n",
    "pad_sequence(a, padding_value=PAD_IDX, batch_first=True)"
   ]
  },
  {
   "cell_type": "code",
   "execution_count": 19,
   "metadata": {},
   "outputs": [],
   "source": [
    "def collate_fn(batch):\n",
    "\n",
    "    src_batch, tgt_batch = [], []\n",
    "    for src, tgt in batch:\n",
    "        src_batch.append(transform(src.rstrip(\"\\n\"), 0))\n",
    "        tgt_batch.append(transform(tgt.rstrip(\"\\n\"), 1))\n",
    "    \n",
    "    src_batch = pad_sequence(src_batch, padding_value=PAD_IDX, batch_first=True)\n",
    "    tgt_batch = pad_sequence(tgt_batch, batch_first=True, padding_value=PAD_IDX)\n",
    "    return src_batch, tgt_batch"
   ]
  },
  {
   "cell_type": "code",
   "execution_count": 20,
   "metadata": {},
   "outputs": [],
   "source": [
    "train_dataloader = torch.utils.data.DataLoader(train_iter, \n",
    "                                               batch_size=32,\n",
    "                                               collate_fn=collate_fn,\n",
    "                                               shuffle=True)\n",
    "test_dataloader = torch.utils.data.DataLoader(test_iter,\n",
    "                                              batch_size=32,\n",
    "                                              collate_fn=collate_fn)"
   ]
  },
  {
   "attachments": {},
   "cell_type": "markdown",
   "metadata": {},
   "source": [
    "## Training the model"
   ]
  },
  {
   "cell_type": "code",
   "execution_count": 21,
   "metadata": {},
   "outputs": [
    {
     "data": {
      "text/plain": [
       "(46, 43)"
      ]
     },
     "execution_count": 21,
     "metadata": {},
     "output_type": "execute_result"
    }
   ],
   "source": [
    "max_seq_len_src, max_seq_len_tgt = 0, 0\n",
    "\n",
    "for src_batch, tgt_batch in train_dataloader:\n",
    "    max_seq_len_src = max(max_seq_len_src, src_batch.shape[-1])\n",
    "    max_seq_len_tgt = max(max_seq_len_tgt, tgt_batch.shape[-1])\n",
    "\n",
    "max_seq_len_src, max_seq_len_tgt"
   ]
  },
  {
   "cell_type": "code",
   "execution_count": 22,
   "metadata": {},
   "outputs": [],
   "source": [
    "src_embedding = Embedding(d_model=512,\n",
    "                          vocab_size=len(src_vocab),\n",
    "                          max_seq_len=max_seq_len_src+10)\n",
    "tgt_embedding = Embedding(d_model=512,\n",
    "                          vocab_size=len(tgt_vocab),\n",
    "                          max_seq_len=max_seq_len_tgt+10)\n",
    "transformer = Transformer(output_size=len(tgt_vocab))"
   ]
  },
  {
   "cell_type": "code",
   "execution_count": 23,
   "metadata": {},
   "outputs": [
    {
     "name": "stderr",
     "output_type": "stream",
     "text": [
      "/Users/sathyakrishnansuresh/miniforge3/envs/tf/lib/python3.11/site-packages/torchinfo/torchinfo.py:477: UserWarning: TypedStorage is deprecated. It will be removed in the future and UntypedStorage will be the only storage class. This should only matter to you if you are using storages directly.  To access UntypedStorage directly, use tensor.untyped_storage() instead of tensor.storage()\n",
      "  action_fn=lambda data: sys.getsizeof(data.storage()),\n",
      "/Users/sathyakrishnansuresh/miniforge3/envs/tf/lib/python3.11/site-packages/torch/storage.py:665: UserWarning: TypedStorage is deprecated. It will be removed in the future and UntypedStorage will be the only storage class. This should only matter to you if you are using storages directly.  To access UntypedStorage directly, use tensor.untyped_storage() instead of tensor.storage()\n",
      "  return super().__sizeof__() + self.nbytes()\n"
     ]
    },
    {
     "data": {
      "text/plain": [
       "=========================================================================================================\n",
       "Layer (type:depth-idx)                                  Output Shape              Param #\n",
       "=========================================================================================================\n",
       "Transformer                                             [32, 43, 10837]           --\n",
       "├─TransformerEncoder: 1-1                               [32, 46, 512]             --\n",
       "│    └─ModuleList: 2-1                                  --                        --\n",
       "│    │    └─TransformerEncoderLayer: 3-1                [32, 46, 512]             3,152,384\n",
       "│    │    └─TransformerEncoderLayer: 3-2                [32, 46, 512]             3,152,384\n",
       "│    │    └─TransformerEncoderLayer: 3-3                [32, 46, 512]             3,152,384\n",
       "│    │    └─TransformerEncoderLayer: 3-4                [32, 46, 512]             3,152,384\n",
       "│    │    └─TransformerEncoderLayer: 3-5                [32, 46, 512]             3,152,384\n",
       "│    │    └─TransformerEncoderLayer: 3-6                [32, 46, 512]             3,152,384\n",
       "├─TransformerDecoder: 1-2                               [32, 43, 512]             --\n",
       "│    └─ModuleList: 2-2                                  --                        --\n",
       "│    │    └─TransformerDecoderLayer: 3-7                [32, 43, 512]             4,204,032\n",
       "│    │    └─TransformerDecoderLayer: 3-8                [32, 43, 512]             4,204,032\n",
       "│    │    └─TransformerDecoderLayer: 3-9                [32, 43, 512]             4,204,032\n",
       "│    │    └─TransformerDecoderLayer: 3-10               [32, 43, 512]             4,204,032\n",
       "│    │    └─TransformerDecoderLayer: 3-11               [32, 43, 512]             4,204,032\n",
       "│    │    └─TransformerDecoderLayer: 3-12               [32, 43, 512]             4,204,032\n",
       "├─Linear: 1-3                                           [32, 43, 10837]           5,559,381\n",
       "=========================================================================================================\n",
       "Total params: 49,697,877\n",
       "Trainable params: 49,697,877\n",
       "Non-trainable params: 0\n",
       "Total mult-adds (Units.GIGABYTES): 1.59\n",
       "=========================================================================================================\n",
       "Input size (MB): 5.83\n",
       "Forward/backward pass size (MB): 1063.01\n",
       "Params size (MB): 198.79\n",
       "Estimated Total Size (MB): 1267.64\n",
       "========================================================================================================="
      ]
     },
     "execution_count": 23,
     "metadata": {},
     "output_type": "execute_result"
    }
   ],
   "source": [
    "from torchinfo import summary\n",
    "summary(transformer,\n",
    "        input_size=[(32, max_seq_len_src, 512), (32, max_seq_len_tgt, 512)])"
   ]
  },
  {
   "cell_type": "code",
   "execution_count": 24,
   "metadata": {},
   "outputs": [],
   "source": [
    "def create_src_mask(src):\n",
    "    src_mask = src!=PAD_IDX\n",
    "    return src_mask.unsqueeze(1).unsqueeze(2)\n",
    "\n",
    "def create_trg_mask(trg):\n",
    "    size = trg.size(-1) - 1\n",
    "    # trg_padding_mask = (trg!=PAD_IDX).unsqueeze(1).unsqueeze(2)\n",
    "    trg_mask = torch.tril(torch.ones(size, size)).expand(trg.size(0), 1, size, size)\n",
    "    return trg_mask\n",
    "\n",
    "def create_mask(src, trg):\n",
    "    return create_src_mask(src), create_trg_mask(trg)"
   ]
  },
  {
   "cell_type": "code",
   "execution_count": 25,
   "metadata": {},
   "outputs": [],
   "source": [
    "def train_step(model: Transformer,\n",
    "               src_embedding: Embedding,\n",
    "               tgt_embedding: Embedding,\n",
    "               dataloader: torch.utils.data.DataLoader,\n",
    "               loss_fn: torch.nn.Module,\n",
    "               optimizer: torch.optim.Optimizer) -> float:\n",
    "    \n",
    "    model.train()\n",
    "    total_loss = 0\n",
    "    for batch, (src_batch, tgt_batch) in enumerate(dataloader):\n",
    "        src_mask, tgt_mask = create_mask(src_batch, tgt_batch)\n",
    "        src_embedded = src_embedding(src_batch)\n",
    "        tgt_embedded = tgt_embedding(tgt_batch)\n",
    "\n",
    "        logits = model(src_embedded, tgt_embedded[:, :-1], src_mask, tgt_mask)\n",
    "        loss = loss_fn(logits.reshape(-1, logits.shape[-1]), tgt_batch[:, 1:].reshape(-1))\n",
    "        \n",
    "        optimizer.zero_grad()\n",
    "        loss.backward()\n",
    "        optimizer.step()\n",
    "\n",
    "        total_loss += loss.item()\n",
    "\n",
    "    return total_loss/len(list(dataloader))\n",
    "\n",
    "def eval_step(model: Transformer,\n",
    "              src_embedding: Embedding,\n",
    "              tgt_embedding: Embedding,\n",
    "              dataloader: torch.utils.data.DataLoader,\n",
    "              loss_fn: torch.nn.Module) -> float:\n",
    "    \n",
    "    model.eval()\n",
    "    total_loss = 0\n",
    "    with torch.inference_mode():\n",
    "        for batch, (src_batch, tgt_batch) in enumerate(dataloader):\n",
    "            src_embedded, tgt_embedded = src_embedding(src_batch), tgt_embedding(tgt_batch)\n",
    "            src_mask, tgt_mask = create_mask(src_batch, tgt_batch)\n",
    "            logits = model(src_embedded, tgt_embedded[:, :-1], src_mask, tgt_mask)\n",
    "            loss = loss_fn(logits.reshape(-1, logits.shape[-1]), tgt_batch[:, 1:].reshape(-1))\n",
    "            total_loss += loss.item()\n",
    "    return total_loss/len(list(dataloader))"
   ]
  },
  {
   "cell_type": "code",
   "execution_count": 26,
   "metadata": {},
   "outputs": [],
   "source": [
    "def train(model: Transformer,\n",
    "          src_embedding: Embedding,\n",
    "          tgt_embedding: Embedding,\n",
    "          train_dataloader: torch.utils.data.DataLoader,\n",
    "          test_dataloader: torch.utils.data.DataLoader,\n",
    "          loss_fn: torch.nn.Module,\n",
    "          optimizer: torch.optim.Optimizer,\n",
    "          scheduler=None,\n",
    "          epochs: int=10) -> Tuple[List[float], List[float]]:\n",
    "    \n",
    "    train_losses = []\n",
    "    test_losses = []\n",
    "    \n",
    "    for epoch in tqdm(range(1, epochs+1)):\n",
    "        train_loss = train_step(model, src_embedding, tgt_embedding, train_dataloader, loss_fn, optimizer)\n",
    "        test_loss = eval_step(model, src_embedding, tgt_embedding, test_dataloader, loss_fn)\n",
    "        train_losses.append(train_loss)\n",
    "        test_losses.append(test_loss)\n",
    "        print(f\"epoch: {epoch} train loss: {train_loss: .4f} test loss: {test_loss: .4f}\")\n",
    "    \n",
    "        if scheduler:\n",
    "            scheduler.step(test_loss)\n",
    "    \n",
    "    return train_losses, test_losses\n",
    "          "
   ]
  },
  {
   "cell_type": "code",
   "execution_count": 27,
   "metadata": {},
   "outputs": [
    {
     "data": {
      "application/vnd.jupyter.widget-view+json": {
       "model_id": "dd13b84fb5874772b813faa466fa1543",
       "version_major": 2,
       "version_minor": 0
      },
      "text/plain": [
       "  0%|          | 0/10 [00:00<?, ?it/s]"
      ]
     },
     "metadata": {},
     "output_type": "display_data"
    },
    {
     "name": "stdout",
     "output_type": "stream",
     "text": [
      "epoch: 1 train loss:  4.0283 test loss:  3.3814\n",
      "epoch: 2 train loss:  3.1696 test loss:  3.0191\n",
      "epoch: 3 train loss:  2.8345 test loss:  2.8232\n",
      "epoch: 4 train loss:  2.5959 test loss:  2.6565\n",
      "epoch: 5 train loss:  2.3984 test loss:  2.5451\n",
      "epoch: 6 train loss:  2.2339 test loss:  2.4601\n",
      "epoch: 7 train loss:  2.0846 test loss:  2.3832\n",
      "epoch: 8 train loss:  1.9501 test loss:  2.3570\n",
      "epoch: 9 train loss:  1.8280 test loss:  2.3400\n",
      "epoch: 10 train loss:  1.7135 test loss:  2.3330\n"
     ]
    }
   ],
   "source": [
    "src_embedding = Embedding(d_model=512,\n",
    "                          vocab_size=len(src_vocab),\n",
    "                          max_seq_len=max_seq_len_src+10)\n",
    "tgt_embedding = Embedding(d_model=512,\n",
    "                          vocab_size=len(tgt_vocab),\n",
    "                          max_seq_len=max_seq_len_tgt+10)\n",
    "transformer = Transformer(output_size=len(tgt_vocab))\n",
    "\n",
    "loss_fn = torch.nn.CrossEntropyLoss(ignore_index=PAD_IDX)\n",
    "optimizer = torch.optim.Adam(transformer.parameters(), lr=0.0001, betas=(0.9, 0.98), eps=1e-9)\n",
    "scheduler = torch.optim.lr_scheduler.ReduceLROnPlateau(optimizer, patience=2)\n",
    "\n",
    "train_losses, test_losses = train(model=transformer,\n",
    "                                  src_embedding=src_embedding,\n",
    "                                  tgt_embedding=tgt_embedding,\n",
    "                                  train_dataloader=train_dataloader,\n",
    "                                  test_dataloader=test_dataloader,\n",
    "                                  loss_fn=loss_fn,\n",
    "                                  optimizer=optimizer,\n",
    "                                  scheduler=scheduler)"
   ]
  },
  {
   "cell_type": "code",
   "execution_count": 28,
   "metadata": {},
   "outputs": [],
   "source": [
    "torch.save(transformer.state_dict(), f=\"transformer.pth\")"
   ]
  },
  {
   "cell_type": "code",
   "execution_count": 30,
   "metadata": {},
   "outputs": [
    {
     "name": "stdout",
     "output_type": "stream",
     "text": [
      "Size of the transformer built: 189.68 (MB)\n"
     ]
    }
   ],
   "source": [
    "from pathlib import Path\n",
    "size_of_model = Path(\"transformer.pth\").stat().st_size\n",
    "print(f\"Size of the transformer built: {size_of_model/(1024**2) :.2f} (MB)\")"
   ]
  },
  {
   "cell_type": "code",
   "execution_count": 31,
   "metadata": {},
   "outputs": [
    {
     "data": {
      "image/png": "[encoded data removed]",
      "text/plain": [
       "<Figure size 640x480 with 1 Axes>"
      ]
     },
     "metadata": {},
     "output_type": "display_data"
    }
   ],
   "source": [
    "plt.plot(range(10), train_losses, label=\"train_loss\")\n",
    "plt.plot(range(10), test_losses, label=\"test_loss\")\n",
    "plt.xlabel(\"epochs\")\n",
    "plt.ylabel(\"loss\")\n",
    "plt.title(\"Train/Test loss vs epochs\")\n",
    "plt.legend();"
   ]
  },
  {
   "cell_type": "code",
   "execution_count": null,
   "metadata": {},
   "outputs": [],
   "source": []
  }
 ],
 "metadata": {
  "kernelspec": {
   "display_name": "tf",
   "language": "python",
   "name": "python3"
  },
  "language_info": {
   "codemirror_mode": {
    "name": "ipython",
    "version": 3
   },
   "file_extension": ".py",
   "mimetype": "text/x-python",
   "name": "python",
   "nbconvert_exporter": "python",
   "pygments_lexer": "ipython3",
   "version": "3.11.0"
  },
  "orig_nbformat": 4
 },
 "nbformat": 4,
 "nbformat_minor": 2
}
