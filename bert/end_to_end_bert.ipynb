{
  "cells": [
    {
      "cell_type": "code",
      "execution_count": 1,
      "metadata": {
        "id": "QNP8ys28RlWK"
      },
      "outputs": [],
      "source": [
        "import torchtext\n",
        "import torch\n",
        "import numpy as np\n",
        "import pandas as pd\n",
        "import random\n",
        "import time\n",
        "import math\n",
        "from tqdm.notebook import tqdm\n",
        "\n",
        "from torch import nn\n",
        "from torch.nn.utils.rnn import pad_sequence\n",
        "from torchtext.data.utils import get_tokenizer\n",
        "from torchtext.vocab import build_vocab_from_iterator\n",
        "from torch.utils.data import Dataset, DataLoader\n",
        "\n",
        "from typing import Tuple, List"
      ]
    },
    {
      "cell_type": "code",
      "execution_count": null,
      "metadata": {},
      "outputs": [],
      "source": [
        "import sys\n",
        "sys.path.insert(0, \"..\")"
      ]
    },
    {
      "cell_type": "code",
      "execution_count": 2,
      "metadata": {
        "colab": {
          "base_uri": "https://localhost:8080/",
          "height": 423
        },
        "id": "toQ7IO2wRlWM",
        "outputId": "25aec61a-08d4-4b78-8b04-6c96349a7ead"
      },
      "outputs": [
        {
          "data": {
            "text/html": [
              "\n",
              "  <div id=\"df-110ab46b-4096-4039-a5b9-86c6ad58532c\">\n",
              "    <div class=\"colab-df-container\">\n",
              "      <div>\n",
              "<style scoped>\n",
              "    .dataframe tbody tr th:only-of-type {\n",
              "        vertical-align: middle;\n",
              "    }\n",
              "\n",
              "    .dataframe tbody tr th {\n",
              "        vertical-align: top;\n",
              "    }\n",
              "\n",
              "    .dataframe thead th {\n",
              "        text-align: right;\n",
              "    }\n",
              "</style>\n",
              "<table border=\"1\" class=\"dataframe\">\n",
              "  <thead>\n",
              "    <tr style=\"text-align: right;\">\n",
              "      <th></th>\n",
              "      <th>review</th>\n",
              "      <th>sentiment</th>\n",
              "    </tr>\n",
              "  </thead>\n",
              "  <tbody>\n",
              "    <tr>\n",
              "      <th>0</th>\n",
              "      <td>One of the other reviewers has mentioned that ...</td>\n",
              "      <td>positive</td>\n",
              "    </tr>\n",
              "    <tr>\n",
              "      <th>1</th>\n",
              "      <td>A wonderful little production. &lt;br /&gt;&lt;br /&gt;The...</td>\n",
              "      <td>positive</td>\n",
              "    </tr>\n",
              "    <tr>\n",
              "      <th>2</th>\n",
              "      <td>I thought this was a wonderful way to spend ti...</td>\n",
              "      <td>positive</td>\n",
              "    </tr>\n",
              "    <tr>\n",
              "      <th>3</th>\n",
              "      <td>Basically there's a family where a little boy ...</td>\n",
              "      <td>negative</td>\n",
              "    </tr>\n",
              "    <tr>\n",
              "      <th>4</th>\n",
              "      <td>Petter Mattei's \"Love in the Time of Money\" is...</td>\n",
              "      <td>positive</td>\n",
              "    </tr>\n",
              "    <tr>\n",
              "      <th>...</th>\n",
              "      <td>...</td>\n",
              "      <td>...</td>\n",
              "    </tr>\n",
              "    <tr>\n",
              "      <th>49995</th>\n",
              "      <td>I thought this movie did a down right good job...</td>\n",
              "      <td>positive</td>\n",
              "    </tr>\n",
              "    <tr>\n",
              "      <th>49996</th>\n",
              "      <td>Bad plot, bad dialogue, bad acting, idiotic di...</td>\n",
              "      <td>negative</td>\n",
              "    </tr>\n",
              "    <tr>\n",
              "      <th>49997</th>\n",
              "      <td>I am a Catholic taught in parochial elementary...</td>\n",
              "      <td>negative</td>\n",
              "    </tr>\n",
              "    <tr>\n",
              "      <th>49998</th>\n",
              "      <td>I'm going to have to disagree with the previou...</td>\n",
              "      <td>negative</td>\n",
              "    </tr>\n",
              "    <tr>\n",
              "      <th>49999</th>\n",
              "      <td>No one expects the Star Trek movies to be high...</td>\n",
              "      <td>negative</td>\n",
              "    </tr>\n",
              "  </tbody>\n",
              "</table>\n",
              "<p>50000 rows × 2 columns</p>\n",
              "</div>\n",
              "      <button class=\"colab-df-convert\" onclick=\"convertToInteractive('df-110ab46b-4096-4039-a5b9-86c6ad58532c')\"\n",
              "              title=\"Convert this dataframe to an interactive table.\"\n",
              "              style=\"display:none;\">\n",
              "        \n",
              "  <svg xmlns=\"http://www.w3.org/2000/svg\" height=\"24px\"viewBox=\"0 0 24 24\"\n",
              "       width=\"24px\">\n",
              "    <path d=\"M0 0h24v24H0V0z\" fill=\"none\"/>\n",
              "    <path d=\"M18.56 5.44l.94 2.06.94-2.06 2.06-.94-2.06-.94-.94-2.06-.94 2.06-2.06.94zm-11 1L8.5 8.5l.94-2.06 2.06-.94-2.06-.94L8.5 2.5l-.94 2.06-2.06.94zm10 10l.94 2.06.94-2.06 2.06-.94-2.06-.94-.94-2.06-.94 2.06-2.06.94z\"/><path d=\"M17.41 7.96l-1.37-1.37c-.4-.4-.92-.59-1.43-.59-.52 0-1.04.2-1.43.59L10.3 9.45l-7.72 7.72c-.78.78-.78 2.05 0 2.83L4 21.41c.39.39.9.59 1.41.59.51 0 1.02-.2 1.41-.59l7.78-7.78 2.81-2.81c.8-.78.8-2.07 0-2.86zM5.41 20L4 18.59l7.72-7.72 1.47 1.35L5.41 20z\"/>\n",
              "  </svg>\n",
              "      </button>\n",
              "      \n",
              "  <style>\n",
              "    .colab-df-container {\n",
              "      display:flex;\n",
              "      flex-wrap:wrap;\n",
              "      gap: 12px;\n",
              "    }\n",
              "\n",
              "    .colab-df-convert {\n",
              "      background-color: #E8F0FE;\n",
              "      border: none;\n",
              "      border-radius: 50%;\n",
              "      cursor: pointer;\n",
              "      display: none;\n",
              "      fill: #1967D2;\n",
              "      height: 32px;\n",
              "      padding: 0 0 0 0;\n",
              "      width: 32px;\n",
              "    }\n",
              "\n",
              "    .colab-df-convert:hover {\n",
              "      background-color: #E2EBFA;\n",
              "      box-shadow: 0px 1px 2px rgba(60, 64, 67, 0.3), 0px 1px 3px 1px rgba(60, 64, 67, 0.15);\n",
              "      fill: #174EA6;\n",
              "    }\n",
              "\n",
              "    [theme=dark] .colab-df-convert {\n",
              "      background-color: #3B4455;\n",
              "      fill: #D2E3FC;\n",
              "    }\n",
              "\n",
              "    [theme=dark] .colab-df-convert:hover {\n",
              "      background-color: #434B5C;\n",
              "      box-shadow: 0px 1px 3px 1px rgba(0, 0, 0, 0.15);\n",
              "      filter: drop-shadow(0px 1px 2px rgba(0, 0, 0, 0.3));\n",
              "      fill: #FFFFFF;\n",
              "    }\n",
              "  </style>\n",
              "\n",
              "      <script>\n",
              "        const buttonEl =\n",
              "          document.querySelector('#df-110ab46b-4096-4039-a5b9-86c6ad58532c button.colab-df-convert');\n",
              "        buttonEl.style.display =\n",
              "          google.colab.kernel.accessAllowed ? 'block' : 'none';\n",
              "\n",
              "        async function convertToInteractive(key) {\n",
              "          const element = document.querySelector('#df-110ab46b-4096-4039-a5b9-86c6ad58532c');\n",
              "          const dataTable =\n",
              "            await google.colab.kernel.invokeFunction('convertToInteractive',\n",
              "                                                     [key], {});\n",
              "          if (!dataTable) return;\n",
              "\n",
              "          const docLinkHtml = 'Like what you see? Visit the ' +\n",
              "            '<a target=\"_blank\" href=https://colab.research.google.com/notebooks/data_table.ipynb>data table notebook</a>'\n",
              "            + ' to learn more about interactive tables.';\n",
              "          element.innerHTML = '';\n",
              "          dataTable['output_type'] = 'display_data';\n",
              "          await google.colab.output.renderOutput(dataTable, element);\n",
              "          const docLink = document.createElement('div');\n",
              "          docLink.innerHTML = docLinkHtml;\n",
              "          element.appendChild(docLink);\n",
              "        }\n",
              "      </script>\n",
              "    </div>\n",
              "  </div>\n",
              "  "
            ],
            "text/plain": [
              "                                                  review sentiment\n",
              "0      One of the other reviewers has mentioned that ...  positive\n",
              "1      A wonderful little production. <br /><br />The...  positive\n",
              "2      I thought this was a wonderful way to spend ti...  positive\n",
              "3      Basically there's a family where a little boy ...  negative\n",
              "4      Petter Mattei's \"Love in the Time of Money\" is...  positive\n",
              "...                                                  ...       ...\n",
              "49995  I thought this movie did a down right good job...  positive\n",
              "49996  Bad plot, bad dialogue, bad acting, idiotic di...  negative\n",
              "49997  I am a Catholic taught in parochial elementary...  negative\n",
              "49998  I'm going to have to disagree with the previou...  negative\n",
              "49999  No one expects the Star Trek movies to be high...  negative\n",
              "\n",
              "[50000 rows x 2 columns]"
            ]
          },
          "execution_count": 2,
          "metadata": {},
          "output_type": "execute_result"
        }
      ],
      "source": [
        "df = pd.read_csv(\"../data/IMDB.csv\", delimiter=\",\", encoding='utf-8')\n",
        "df"
      ]
    },
    {
      "cell_type": "markdown",
      "metadata": {
        "id": "pCbuVFY5RlWN"
      },
      "source": [
        "## BERT Dataset"
      ]
    },
    {
      "cell_type": "code",
      "execution_count": 3,
      "metadata": {
        "id": "TNzuUsi8RlWN"
      },
      "outputs": [],
      "source": [
        "MASK_PERCENTANGE = 0.15\n",
        "MASK_PROBABILITY = 0.80"
      ]
    },
    {
      "cell_type": "code",
      "execution_count": 4,
      "metadata": {
        "colab": {
          "base_uri": "https://localhost:8080/"
        },
        "id": "qLag3l3vRlWO",
        "outputId": "f6479553-4fcf-4349-ee86-640a57b85151"
      },
      "outputs": [
        {
          "name": "stdout",
          "output_type": "stream",
          "text": [
            "Masked\n",
            "A lot, a lot! Characters scream, wail, howl and yell, chitter and laugh [MASK]\n",
            "NSP: 1\n",
            "A lot, a lot! Characters scream, wail, howl and yell, chitter and laugh maniacally. [SEP] Turn down the volume if you value your eardrums and your nerves! But you can't fault the cast for their enthusiasm, they really eat up the scenery and sometimes the effect is rather entertaining\n",
            "49\n"
          ]
        }
      ],
      "source": [
        "sents = df.iloc[random.randint(0, df.shape[0]), 0].split(\". \")\n",
        "idx = random.randint(0, len(sents)-1)\n",
        "sent1 = sents[idx]\n",
        "\n",
        "sent1 = sent1.split(\" \")\n",
        "mask_idx = random.randint(0, len(sent1)-1)\n",
        "if random.random() < MASK_PROBABILITY:\n",
        "    sent1[mask_idx] = \"[MASK]\"\n",
        "    print(\"Masked\")\n",
        "    print(\" \".join(sent1))\n",
        "else:\n",
        "    rand_token = random.randint(0, len(sent1)-1)\n",
        "    sent1[mask_idx] = sent1[rand_token]\n",
        "    print(\"Replaced with random token\")\n",
        "    print(\" \".join(sent1))\n",
        "\n",
        "if random.random() <= 0.5:\n",
        "    nsp_sents = \". [SEP] \".join(sents[idx: idx+2])\n",
        "    print(\"NSP: 1\")\n",
        "    print(nsp_sents)\n",
        "    print(len(nsp_sents.split(\" \")))\n",
        "else:\n",
        "    nsp_sents = sents[idx] + \". [SEP] \" + sents[random.randint(idx+1, len(sents))-1]\n",
        "    print(\"NSP: 0\")\n",
        "    print(nsp_sents)\n",
        "    print(len(nsp_sents.split(\" \")))"
      ]
    },
    {
      "cell_type": "code",
      "execution_count": 5,
      "metadata": {
        "id": "LtH-yp6ZRlWO"
      },
      "outputs": [],
      "source": [
        "CLS_TOKEN = 0\n",
        "SEP_TOKEN = 1\n",
        "MASK_TOKEN = 2\n",
        "PAD_TOKEN = 3\n",
        "UNK_TOKEN = 4"
      ]
    },
    {
      "cell_type": "code",
      "execution_count": 6,
      "metadata": {
        "id": "d4p3M_pTRlWO"
      },
      "outputs": [],
      "source": [
        "tokenizer = get_tokenizer(\"spacy\", language=\"en_core_web_sm\")\n",
        "\n",
        "def build_vocab(data_iter):\n",
        "    for sentence in data_iter:\n",
        "        yield tokenizer(sentence)\n",
        "\n",
        "vocab = build_vocab_from_iterator(build_vocab(df[\"review\"].to_list()),\n",
        "                                  min_freq=2,\n",
        "                                  specials=[\"[CLS]\", \"[SEP]\", \"[MASK]\", \"[PAD]\", \"<UNK>\"],\n",
        "                                  special_first=True)\n",
        "vocab.set_default_index(UNK_TOKEN)"
      ]
    },
    {
      "cell_type": "code",
      "execution_count": 7,
      "metadata": {
        "colab": {
          "base_uri": "https://localhost:8080/"
        },
        "id": "N478G5NERlWO",
        "outputId": "3f39206a-328f-4299-b3ac-ad55a30aac2c"
      },
      "outputs": [
        {
          "data": {
            "text/plain": [
              "89854"
            ]
          },
          "execution_count": 7,
          "metadata": {},
          "output_type": "execute_result"
        }
      ],
      "source": [
        "len(vocab)"
      ]
    },
    {
      "cell_type": "code",
      "execution_count": 8,
      "metadata": {
        "colab": {
          "base_uri": "https://localhost:8080/"
        },
        "id": "-sQwS6ZSRlWP",
        "outputId": "c333bb59-b72d-416a-8a89-476c5d21b6e1"
      },
      "outputs": [
        {
          "data": {
            "text/plain": [
              "(5000357, 4999643)"
            ]
          },
          "execution_count": 8,
          "metadata": {},
          "output_type": "execute_result"
        }
      ],
      "source": [
        "less_ = 0\n",
        "more_ = 0\n",
        "for _ in range(10000000):\n",
        "    if random.random()<=0.5:\n",
        "        less_ += 1\n",
        "    else:\n",
        "        more_ += 1\n",
        "less_, more_"
      ]
    },
    {
      "cell_type": "markdown",
      "metadata": {
        "id": "YBMVr242RlWP"
      },
      "source": [
        "`random.random()` generates an equal distribution and it can be used for the NSP task"
      ]
    },
    {
      "cell_type": "code",
      "execution_count": 9,
      "metadata": {
        "id": "CCkd3tbCRlWP"
      },
      "outputs": [],
      "source": [
        "class IMDBBERTDataset(Dataset):\n",
        "\n",
        "    NSP_PERCENTAGE = 0.50\n",
        "\n",
        "    CLS_TOKEN = 0\n",
        "    SEP_TOKEN = 1\n",
        "    MASK_TOKEN = 2\n",
        "    PAD_TOKEN = 3\n",
        "    UNK_TOKEN = 4\n",
        "\n",
        "    def __init__(self,\n",
        "                 path: str,\n",
        "                 max_sent_len: int=50) -> None:\n",
        "        super().__init__()\n",
        "        self.df = pd.read_csv(path)\n",
        "        self.tokenizer = get_tokenizer(\"spacy\", language=\"en_core_web_sm\")\n",
        "        self.vocab = build_vocab_from_iterator(self._build_vocab(self.df[\"review\"].to_list()),\n",
        "                                               min_freq=2,\n",
        "                                               specials=[\"[CLS]\", \"[SEP]\", \"[MASK]\", \"[PAD]\", \"<UNK>\"],\n",
        "                                               special_first=True)\n",
        "        self.vocab.set_default_index(self.UNK_TOKEN)\n",
        "        self.max_sent_len = max_sent_len\n",
        "        self.token_ids = []\n",
        "        self.masked_token = []\n",
        "        self.masked_idx = []\n",
        "        self.is_next = []\n",
        "        self.segment_tokens = []\n",
        "        self._prepare_data()\n",
        "\n",
        "\n",
        "    def _prepare_data(self) -> None:\n",
        "        for i in range(self.df.shape[0]):\n",
        "            try:\n",
        "                sentences = self.df.iloc[i, 0].split(\". \")\n",
        "                if random.random() <= self.NSP_PERCENTAGE:\n",
        "                    rand_idx = random.randint(0, len(sentences)-2)\n",
        "                    sentences = sentences[rand_idx:rand_idx+2]\n",
        "                    is_next = 0\n",
        "                else:\n",
        "                    rand_idx = random.randint(1, len(sentences)-1)\n",
        "                    sentences = [sentences[rand_idx], sentences[rand_idx-1]]\n",
        "                    is_next = 1\n",
        "\n",
        "                sentences = [\"[CLS]\"] + self.tokenizer(sentences[0]) + [\"[SEP]\"] + self.tokenizer(sentences[1])\n",
        "                if len(sentences) < self.max_sent_len:\n",
        "                    while len(sentences) < self.max_sent_len:\n",
        "                        sentences += [\"[PAD]\"]\n",
        "                else:\n",
        "                    sentences = sentences[:self.max_sent_len]\n",
        "\n",
        "                sep_idx = sentences.index(\"[SEP]\")\n",
        "                segment_token = [0]*(sep_idx+1) + [1]*(len(sentences)-1-sep_idx)\n",
        "\n",
        "                # assert len(segment_token) == len(sentences), f\"Length not equal, sep_idx: {sep_idx} \"\n",
        "\n",
        "                token_ids = self.vocab(sentences)\n",
        "                mask_token, mask_idx = self.SEP_TOKEN, -1\n",
        "                while mask_token == self.SEP_TOKEN:\n",
        "                    mask_idx = random.randint(1, len(token_ids)-1)\n",
        "                    mask_token = token_ids[mask_idx]\n",
        "                token_ids[mask_idx] = self.MASK_TOKEN\n",
        "                self.token_ids.append(token_ids)\n",
        "                self.masked_token.append(mask_token)\n",
        "                self.masked_idx.append(mask_idx)\n",
        "                self.segment_tokens.append(segment_token)\n",
        "                self.is_next.append(is_next)\n",
        "            except:\n",
        "                pass\n",
        "\n",
        "        self.bert_df = pd.DataFrame(data={\n",
        "            \"token_ids\" : self.token_ids,\n",
        "            \"segment_tokens\" : self.segment_tokens,\n",
        "            \"masked_token\" : self.masked_token,\n",
        "            \"masked_idx\" : self.masked_idx,\n",
        "            \"is_next\" : self.is_next\n",
        "        })\n",
        "\n",
        "    def _build_vocab(self, data_iter):\n",
        "        for sentence in data_iter:\n",
        "            yield self.tokenizer(sentence)\n",
        "\n",
        "    def __getitem__(self, index: int) -> Tuple[torch.Tensor, torch.Tensor, torch.Tensor, torch.Tensor, torch.Tensor]:\n",
        "        token_ids = self.token_ids[index]\n",
        "        segment_tokens = self.segment_tokens[index]\n",
        "        masked_token = self.masked_token[index]\n",
        "        masked_idx = self.masked_idx[index]\n",
        "        is_next = self.is_next[index]\n",
        "        return torch.tensor(token_ids), torch.tensor(segment_tokens), torch.tensor(masked_token), torch.tensor(masked_idx), torch.tensor(is_next)\n",
        "\n",
        "    def __len__(self) -> int:\n",
        "        return self.bert_df.shape[0]"
      ]
    },
    {
      "cell_type": "markdown",
      "metadata": {
        "id": "9Y3O3HSERlWQ"
      },
      "source": [
        "## BERT EMBEDDING"
      ]
    },
    {
      "cell_type": "code",
      "execution_count": 10,
      "metadata": {
        "colab": {
          "base_uri": "https://localhost:8080/",
          "height": 423
        },
        "id": "DSaWa2O2RlWQ",
        "outputId": "52f9a27c-7312-4d6c-e041-bd5283b53b43"
      },
      "outputs": [
        {
          "data": {
            "text/html": [
              "\n",
              "  <div id=\"df-d22b748d-0585-4904-9bda-8c999123060a\">\n",
              "    <div class=\"colab-df-container\">\n",
              "      <div>\n",
              "<style scoped>\n",
              "    .dataframe tbody tr th:only-of-type {\n",
              "        vertical-align: middle;\n",
              "    }\n",
              "\n",
              "    .dataframe tbody tr th {\n",
              "        vertical-align: top;\n",
              "    }\n",
              "\n",
              "    .dataframe thead th {\n",
              "        text-align: right;\n",
              "    }\n",
              "</style>\n",
              "<table border=\"1\" class=\"dataframe\">\n",
              "  <thead>\n",
              "    <tr style=\"text-align: right;\">\n",
              "      <th></th>\n",
              "      <th>token_ids</th>\n",
              "      <th>segment_tokens</th>\n",
              "      <th>masked_token</th>\n",
              "      <th>masked_idx</th>\n",
              "      <th>is_next</th>\n",
              "    </tr>\n",
              "  </thead>\n",
              "  <tbody>\n",
              "    <tr>\n",
              "      <th>0</th>\n",
              "      <td>[0, 59, 2777, 1502, 30, 34489, 1263, 6, 46, 51...</td>\n",
              "      <td>[0, 0, 0, 0, 0, 0, 0, 0, 0, 0, 0, 0, 0, 0, 0, ...</td>\n",
              "      <td>13</td>\n",
              "      <td>38</td>\n",
              "      <td>1</td>\n",
              "    </tr>\n",
              "    <tr>\n",
              "      <th>1</th>\n",
              "      <td>[0, 111, 113, 21, 121, 1964, 76, 294, 396, 25,...</td>\n",
              "      <td>[0, 0, 0, 0, 0, 0, 0, 0, 0, 0, 0, 0, 0, 0, 0, ...</td>\n",
              "      <td>6</td>\n",
              "      <td>20</td>\n",
              "      <td>0</td>\n",
              "    </tr>\n",
              "    <tr>\n",
              "      <th>2</th>\n",
              "      <td>[0, 28, 133, 12, 4391, 6, 29, 5, 448, 12, 2044...</td>\n",
              "      <td>[0, 0, 0, 0, 0, 0, 0, 0, 0, 0, 0, 0, 0, 0, 0, ...</td>\n",
              "      <td>8</td>\n",
              "      <td>37</td>\n",
              "      <td>1</td>\n",
              "    </tr>\n",
              "    <tr>\n",
              "      <th>3</th>\n",
              "      <td>[0, 272, 26, 5, 678, 25, 3627, 97, 58, 3081, 1...</td>\n",
              "      <td>[0, 0, 0, 0, 0, 0, 0, 0, 0, 0, 0, 0, 0, 1, 1, ...</td>\n",
              "      <td>308</td>\n",
              "      <td>40</td>\n",
              "      <td>1</td>\n",
              "    </tr>\n",
              "    <tr>\n",
              "      <th>4</th>\n",
              "      <td>[0, 1935, 1, 4, 12238, 18, 17, 1275, 13, 5, 22...</td>\n",
              "      <td>[0, 0, 0, 1, 1, 1, 1, 1, 1, 1, 1, 1, 1, 1, 1, ...</td>\n",
              "      <td>2501</td>\n",
              "      <td>16</td>\n",
              "      <td>1</td>\n",
              "    </tr>\n",
              "    <tr>\n",
              "      <th>...</th>\n",
              "      <td>...</td>\n",
              "      <td>...</td>\n",
              "      <td>...</td>\n",
              "      <td>...</td>\n",
              "      <td>...</td>\n",
              "    </tr>\n",
              "    <tr>\n",
              "      <th>41945</th>\n",
              "      <td>[0, 491, 10693, 6, 619, 38, 342, 6, 3023, 6, 3...</td>\n",
              "      <td>[0, 0, 0, 0, 0, 0, 0, 0, 0, 0, 0, 0, 0, 0, 0, ...</td>\n",
              "      <td>6</td>\n",
              "      <td>36</td>\n",
              "      <td>1</td>\n",
              "    </tr>\n",
              "    <tr>\n",
              "      <th>41946</th>\n",
              "      <td>[0, 453, 1844, 1, 453, 275, 3, 3, 3, 3, 3, 3, ...</td>\n",
              "      <td>[0, 0, 0, 0, 1, 1, 1, 1, 1, 1, 1, 1, 1, 1, 1, ...</td>\n",
              "      <td>3</td>\n",
              "      <td>12</td>\n",
              "      <td>1</td>\n",
              "    </tr>\n",
              "    <tr>\n",
              "      <th>41947</th>\n",
              "      <td>[0, 7432, 2472, 12, 106, 6, 83, 235, 12, 6, 84...</td>\n",
              "      <td>[0, 0, 0, 0, 0, 0, 0, 0, 0, 0, 0, 0, 0, 0, 0, ...</td>\n",
              "      <td>6</td>\n",
              "      <td>37</td>\n",
              "      <td>1</td>\n",
              "    </tr>\n",
              "    <tr>\n",
              "      <th>41948</th>\n",
              "      <td>[0, 69, 12, 68, 12, 405, 25, 568, 18, 11934, 6...</td>\n",
              "      <td>[0, 0, 0, 0, 0, 0, 0, 0, 0, 0, 0, 0, 0, 0, 0, ...</td>\n",
              "      <td>27246</td>\n",
              "      <td>14</td>\n",
              "      <td>1</td>\n",
              "    </tr>\n",
              "    <tr>\n",
              "      <th>41949</th>\n",
              "      <td>[0, 8084, 12, 1053, 1699, 23, 5, 337, 7440, 38...</td>\n",
              "      <td>[0, 0, 0, 0, 0, 0, 0, 0, 0, 0, 0, 0, 0, 0, 0, ...</td>\n",
              "      <td>17970</td>\n",
              "      <td>28</td>\n",
              "      <td>0</td>\n",
              "    </tr>\n",
              "  </tbody>\n",
              "</table>\n",
              "<p>41950 rows × 5 columns</p>\n",
              "</div>\n",
              "      <button class=\"colab-df-convert\" onclick=\"convertToInteractive('df-d22b748d-0585-4904-9bda-8c999123060a')\"\n",
              "              title=\"Convert this dataframe to an interactive table.\"\n",
              "              style=\"display:none;\">\n",
              "        \n",
              "  <svg xmlns=\"http://www.w3.org/2000/svg\" height=\"24px\"viewBox=\"0 0 24 24\"\n",
              "       width=\"24px\">\n",
              "    <path d=\"M0 0h24v24H0V0z\" fill=\"none\"/>\n",
              "    <path d=\"M18.56 5.44l.94 2.06.94-2.06 2.06-.94-2.06-.94-.94-2.06-.94 2.06-2.06.94zm-11 1L8.5 8.5l.94-2.06 2.06-.94-2.06-.94L8.5 2.5l-.94 2.06-2.06.94zm10 10l.94 2.06.94-2.06 2.06-.94-2.06-.94-.94-2.06-.94 2.06-2.06.94z\"/><path d=\"M17.41 7.96l-1.37-1.37c-.4-.4-.92-.59-1.43-.59-.52 0-1.04.2-1.43.59L10.3 9.45l-7.72 7.72c-.78.78-.78 2.05 0 2.83L4 21.41c.39.39.9.59 1.41.59.51 0 1.02-.2 1.41-.59l7.78-7.78 2.81-2.81c.8-.78.8-2.07 0-2.86zM5.41 20L4 18.59l7.72-7.72 1.47 1.35L5.41 20z\"/>\n",
              "  </svg>\n",
              "      </button>\n",
              "      \n",
              "  <style>\n",
              "    .colab-df-container {\n",
              "      display:flex;\n",
              "      flex-wrap:wrap;\n",
              "      gap: 12px;\n",
              "    }\n",
              "\n",
              "    .colab-df-convert {\n",
              "      background-color: #E8F0FE;\n",
              "      border: none;\n",
              "      border-radius: 50%;\n",
              "      cursor: pointer;\n",
              "      display: none;\n",
              "      fill: #1967D2;\n",
              "      height: 32px;\n",
              "      padding: 0 0 0 0;\n",
              "      width: 32px;\n",
              "    }\n",
              "\n",
              "    .colab-df-convert:hover {\n",
              "      background-color: #E2EBFA;\n",
              "      box-shadow: 0px 1px 2px rgba(60, 64, 67, 0.3), 0px 1px 3px 1px rgba(60, 64, 67, 0.15);\n",
              "      fill: #174EA6;\n",
              "    }\n",
              "\n",
              "    [theme=dark] .colab-df-convert {\n",
              "      background-color: #3B4455;\n",
              "      fill: #D2E3FC;\n",
              "    }\n",
              "\n",
              "    [theme=dark] .colab-df-convert:hover {\n",
              "      background-color: #434B5C;\n",
              "      box-shadow: 0px 1px 3px 1px rgba(0, 0, 0, 0.15);\n",
              "      filter: drop-shadow(0px 1px 2px rgba(0, 0, 0, 0.3));\n",
              "      fill: #FFFFFF;\n",
              "    }\n",
              "  </style>\n",
              "\n",
              "      <script>\n",
              "        const buttonEl =\n",
              "          document.querySelector('#df-d22b748d-0585-4904-9bda-8c999123060a button.colab-df-convert');\n",
              "        buttonEl.style.display =\n",
              "          google.colab.kernel.accessAllowed ? 'block' : 'none';\n",
              "\n",
              "        async function convertToInteractive(key) {\n",
              "          const element = document.querySelector('#df-d22b748d-0585-4904-9bda-8c999123060a');\n",
              "          const dataTable =\n",
              "            await google.colab.kernel.invokeFunction('convertToInteractive',\n",
              "                                                     [key], {});\n",
              "          if (!dataTable) return;\n",
              "\n",
              "          const docLinkHtml = 'Like what you see? Visit the ' +\n",
              "            '<a target=\"_blank\" href=https://colab.research.google.com/notebooks/data_table.ipynb>data table notebook</a>'\n",
              "            + ' to learn more about interactive tables.';\n",
              "          element.innerHTML = '';\n",
              "          dataTable['output_type'] = 'display_data';\n",
              "          await google.colab.output.renderOutput(dataTable, element);\n",
              "          const docLink = document.createElement('div');\n",
              "          docLink.innerHTML = docLinkHtml;\n",
              "          element.appendChild(docLink);\n",
              "        }\n",
              "      </script>\n",
              "    </div>\n",
              "  </div>\n",
              "  "
            ],
            "text/plain": [
              "                                               token_ids  \\\n",
              "0      [0, 59, 2777, 1502, 30, 34489, 1263, 6, 46, 51...   \n",
              "1      [0, 111, 113, 21, 121, 1964, 76, 294, 396, 25,...   \n",
              "2      [0, 28, 133, 12, 4391, 6, 29, 5, 448, 12, 2044...   \n",
              "3      [0, 272, 26, 5, 678, 25, 3627, 97, 58, 3081, 1...   \n",
              "4      [0, 1935, 1, 4, 12238, 18, 17, 1275, 13, 5, 22...   \n",
              "...                                                  ...   \n",
              "41945  [0, 491, 10693, 6, 619, 38, 342, 6, 3023, 6, 3...   \n",
              "41946  [0, 453, 1844, 1, 453, 275, 3, 3, 3, 3, 3, 3, ...   \n",
              "41947  [0, 7432, 2472, 12, 106, 6, 83, 235, 12, 6, 84...   \n",
              "41948  [0, 69, 12, 68, 12, 405, 25, 568, 18, 11934, 6...   \n",
              "41949  [0, 8084, 12, 1053, 1699, 23, 5, 337, 7440, 38...   \n",
              "\n",
              "                                          segment_tokens  masked_token  \\\n",
              "0      [0, 0, 0, 0, 0, 0, 0, 0, 0, 0, 0, 0, 0, 0, 0, ...            13   \n",
              "1      [0, 0, 0, 0, 0, 0, 0, 0, 0, 0, 0, 0, 0, 0, 0, ...             6   \n",
              "2      [0, 0, 0, 0, 0, 0, 0, 0, 0, 0, 0, 0, 0, 0, 0, ...             8   \n",
              "3      [0, 0, 0, 0, 0, 0, 0, 0, 0, 0, 0, 0, 0, 1, 1, ...           308   \n",
              "4      [0, 0, 0, 1, 1, 1, 1, 1, 1, 1, 1, 1, 1, 1, 1, ...          2501   \n",
              "...                                                  ...           ...   \n",
              "41945  [0, 0, 0, 0, 0, 0, 0, 0, 0, 0, 0, 0, 0, 0, 0, ...             6   \n",
              "41946  [0, 0, 0, 0, 1, 1, 1, 1, 1, 1, 1, 1, 1, 1, 1, ...             3   \n",
              "41947  [0, 0, 0, 0, 0, 0, 0, 0, 0, 0, 0, 0, 0, 0, 0, ...             6   \n",
              "41948  [0, 0, 0, 0, 0, 0, 0, 0, 0, 0, 0, 0, 0, 0, 0, ...         27246   \n",
              "41949  [0, 0, 0, 0, 0, 0, 0, 0, 0, 0, 0, 0, 0, 0, 0, ...         17970   \n",
              "\n",
              "       masked_idx  is_next  \n",
              "0              38        1  \n",
              "1              20        0  \n",
              "2              37        1  \n",
              "3              40        1  \n",
              "4              16        1  \n",
              "...           ...      ...  \n",
              "41945          36        1  \n",
              "41946          12        1  \n",
              "41947          37        1  \n",
              "41948          14        1  \n",
              "41949          28        0  \n",
              "\n",
              "[41950 rows x 5 columns]"
            ]
          },
          "execution_count": 10,
          "metadata": {},
          "output_type": "execute_result"
        }
      ],
      "source": [
        "ds = IMDBBERTDataset(\"../data/IMDB.csv\")\n",
        "ds.bert_df"
      ]
    },
    {
      "cell_type": "code",
      "execution_count": 11,
      "metadata": {
        "colab": {
          "base_uri": "https://localhost:8080/"
        },
        "id": "sEmRb-cpRlWQ",
        "outputId": "2a7f1593-0004-4c23-b62c-90d5431ee902"
      },
      "outputs": [
        {
          "data": {
            "text/plain": [
              "89854"
            ]
          },
          "execution_count": 11,
          "metadata": {},
          "output_type": "execute_result"
        }
      ],
      "source": [
        "VOCAB_SIZE = len(ds.vocab)\n",
        "VOCAB_SIZE"
      ]
    },
    {
      "cell_type": "code",
      "execution_count": 12,
      "metadata": {
        "id": "Cx7rBdgxRlWQ"
      },
      "outputs": [],
      "source": [
        "class BERTEmbedding(nn.Module):\n",
        "\n",
        "    def __init__(self,\n",
        "                 d_model: int=512,\n",
        "                 vocab_size: int=1000,\n",
        "                 max_seq_len: int=100,\n",
        "                 dropout: float=0.1,\n",
        "                 device=\"cpu\") -> None:\n",
        "\n",
        "        super().__init__()\n",
        "        self.d_model = d_model\n",
        "        self.vocab_size = vocab_size\n",
        "        self.token_embedding = nn.Embedding(num_embeddings=vocab_size,\n",
        "                                            embedding_dim=d_model)\n",
        "        pe = torch.zeros(size=(max_seq_len, d_model),\n",
        "                         requires_grad=False)\n",
        "\n",
        "        for pos in range(max_seq_len):\n",
        "            for dim in range(d_model):\n",
        "                if pos%2==0:\n",
        "                    pe[pos, dim] = math.sin(pos//(10000**(2*dim//d_model)))\n",
        "                else:\n",
        "                    pe[pos, dim] = math.cos(pos//(10000**(2*dim//d_model)))\n",
        "        self.register_buffer('pe', pe)\n",
        "\n",
        "        self.segment_embedding = nn.Embedding(num_embeddings=2,\n",
        "                                              embedding_dim=d_model)\n",
        "        self.dropout = nn.Dropout(p=dropout)\n",
        "\n",
        "    def __repr__(self) -> str:\n",
        "        return f\"BERTEmbedding(d_model={self.d_model}, vocab_size={self.vocab_size})\"\n",
        "\n",
        "    def __str__(self) -> str:\n",
        "        return f\"BERTEmbedding(d_model={self.d_model}, vocab_size={self.vocab_size})\"\n",
        "\n",
        "    def forward(self,\n",
        "                x: torch.Tensor,\n",
        "                segment_tokens: torch.Tensor) -> torch.Tensor:\n",
        "        # x -> [batch_size, max_seq_len]\n",
        "        token_embeddings = self.token_embedding(x)\n",
        "        position_encoding = self.pe[:x.shape[1], :].unsqueeze(0) # positional_encoding -> [1, max_seq_len, d_model]\n",
        "        segment_embedding = self.segment_embedding(segment_tokens)\n",
        "        return self.dropout(token_embeddings + position_encoding + segment_embedding)"
      ]
    },
    {
      "cell_type": "code",
      "execution_count": 13,
      "metadata": {
        "colab": {
          "base_uri": "https://localhost:8080/"
        },
        "id": "gJiGUljARlWQ",
        "outputId": "1de895a9-2a54-4d3a-ca42-3df1fd8c9064"
      },
      "outputs": [
        {
          "name": "stdout",
          "output_type": "stream",
          "text": [
            "token_ids shape: torch.Size([32, 50])\n",
            "embedding shape: torch.Size([32, 50, 512])\n"
          ]
        }
      ],
      "source": [
        "from torch.utils.data import DataLoader\n",
        "data_loader = DataLoader(dataset=ds,\n",
        "                         batch_size=32,\n",
        "                         shuffle=True)\n",
        "batch = next(iter(data_loader))\n",
        "bert_embedding = BERTEmbedding(d_model=512,\n",
        "                               vocab_size=VOCAB_SIZE)\n",
        "with torch.inference_mode():\n",
        "    token_ids, segment_tokens = batch[0], batch[1]\n",
        "    embedding = bert_embedding(token_ids, segment_tokens)\n",
        "    print(f\"token_ids shape: {token_ids.shape}\")\n",
        "    print(f\"embedding shape: {embedding.shape}\")"
      ]
    },
    {
      "cell_type": "markdown",
      "metadata": {
        "id": "Hq6Er8qlRlWQ"
      },
      "source": [
        "## BERT"
      ]
    },
    {
      "cell_type": "markdown",
      "metadata": {
        "id": "I_4yt6IbRlWQ"
      },
      "source": [
        "* BERT model is made up of just the encoder part of the transformer architecture.\n",
        "* I am going to build the BERT-Base model in this kernel\n",
        "* Parameters for BERT-Base:\n",
        "    * Number of encoder layers   **L : 12**\n",
        "    * Model Dimension            **H : 768**\n",
        "    * Number of Attention heads  **A : 12**"
      ]
    },
    {
      "cell_type": "code",
      "execution_count": 14,
      "metadata": {
        "colab": {
          "base_uri": "https://localhost:8080/"
        },
        "id": "vk-Ia6o1RlWQ",
        "outputId": "54e78163-cc5e-46aa-ad10-f7c7adb49fad"
      },
      "outputs": [
        {
          "data": {
            "text/plain": [
              "torch.Size([32, 768])"
            ]
          },
          "execution_count": 14,
          "metadata": {},
          "output_type": "execute_result"
        }
      ],
      "source": [
        "batch = torch.rand(32, 50, 768)\n",
        "masked_idx = torch.tensor([random.randint(0, 49) for _ in range(32)])\n",
        "masked_tokens = batch[range(len(masked_idx)), masked_idx]\n",
        "masked_tokens.shape"
      ]
    },
    {
      "cell_type": "code",
      "execution_count": 15,
      "metadata": {
        "id": "dUivoR9XRlWQ"
      },
      "outputs": [],
      "source": [
        "from scripts.scripts import TransformerEncoder, create_padding_mask"
      ]
    },
    {
      "cell_type": "code",
      "execution_count": 16,
      "metadata": {
        "id": "0IVVmM2SRlWQ"
      },
      "outputs": [],
      "source": [
        "class BERT(nn.Module):\n",
        "    def __init__(self,\n",
        "                 num_layers: int=12,\n",
        "                 d_model: int=768,\n",
        "                 num_heads: int=12,\n",
        "                 vocab_size: int=1000,\n",
        "                 d_ff: int=2048,\n",
        "                 attn_dropout: float=0.1,\n",
        "                 ff_dropout: float=0.1) -> None:\n",
        "        super().__init__()\n",
        "        self.d_model = d_model\n",
        "        self.num_heads = num_heads\n",
        "        self.num_layers = num_layers\n",
        "        self.bert_encoder = TransformerEncoder(num_encoders=num_layers,\n",
        "                                               d_model=d_model,\n",
        "                                               num_heads=num_heads,\n",
        "                                               d_ff=d_ff,\n",
        "                                               attn_dropout=attn_dropout,\n",
        "                                               ff_dropout=ff_dropout)\n",
        "        self.masked_block = nn.Linear(in_features=d_model,\n",
        "                                      out_features=vocab_size)\n",
        "        self.nsp_block = nn.Linear(in_features=d_model,\n",
        "                                        out_features=2)\n",
        "\n",
        "\n",
        "    def __repr__(self) -> str:\n",
        "        return f\"BERT(num_layers={self.num_layers}, d_model={self.d_model}, num_heads={self.num_heads})\"\n",
        "\n",
        "    def __str__(self) -> str:\n",
        "        return f\"BERT(num_layers={self.num_layers}, d_model={self.d_model}, num_heads={self.num_heads})\"\n",
        "\n",
        "    def forward(self,\n",
        "                x: torch.Tensor,\n",
        "                mask: torch.Tensor,\n",
        "                masked_idx: torch.Tensor) -> Tuple[torch.Tensor, torch.Tensor]:\n",
        "\n",
        "        \"\"\"\n",
        "            x -> Input embedding, shape: [batch_size, max_seq_len, d_model]\n",
        "            mask -> Mask for padding, shape: [batch_size, 1, 1, max_seq_len]\n",
        "            masked_idx -> For each sequence a different index position has been masked\n",
        "            and the encoder's contextual representation of the masked token will be\n",
        "            used to predict the true token. To extract the representation for each\n",
        "            sequence the different index positions are passed in masked_idx which will\n",
        "            be used for indexing the representation. Shape: [batch_size]\n",
        "        \"\"\"\n",
        "        x = self.bert_encoder(x, mask) # [batch_size, max_seq_len, d_model]\n",
        "        masked_tokens = x[range(len(masked_idx)), masked_idx]\n",
        "\n",
        "        # For NSP prediction the BERT paper uses the '[CLS]' token which is the\n",
        "        # 0th index in each sequence and it is accessed by indexing '0' along the\n",
        "        # first dimension\n",
        "        nsp_logits = self.nsp_block(x[:, 0, :]) # x[:, 0, :] -> [batch_size, d_model]\n",
        "        masked_tokens_logits = self.masked_block(masked_tokens)\n",
        "        return masked_tokens_logits, nsp_logits"
      ]
    },
    {
      "cell_type": "code",
      "execution_count": 17,
      "metadata": {
        "id": "tiCTr-NeRlWR"
      },
      "outputs": [],
      "source": [
        "BATCH_SIZE = 32"
      ]
    },
    {
      "cell_type": "code",
      "execution_count": 18,
      "metadata": {
        "id": "ACr4aFWRRlWR"
      },
      "outputs": [],
      "source": [
        "def train_bert(bert_model: BERT,\n",
        "               bert_embedding: BERTEmbedding,\n",
        "               dataloader: torch.utils.data.DataLoader,\n",
        "               optimizer: torch.optim.Optimizer,\n",
        "               masked_loss_fn: torch.nn.Module,\n",
        "               nsp_loss_fn: torch.nn.Module,\n",
        "               epochs: int=10,\n",
        "               device: str=\"cpu\") -> Tuple[float, float]:\n",
        "\n",
        "    bert_model.to(device)\n",
        "    bert_embedding.to(device)\n",
        "    bert_model.train()\n",
        "\n",
        "    bert_results = {\n",
        "        \"masked_tokens_losses\" : [],\n",
        "        \"nsp_losses\" : [],\n",
        "        \"masked_tokens_acc\" : [],\n",
        "        \"nsp_acc\" : [],\n",
        "    }\n",
        "\n",
        "    for epoch in tqdm(range(epochs)):\n",
        "        masked_tokens_losses, nsp_losses = 0, 0\n",
        "        masked_token_acc, nsp_acc = 0, 0\n",
        "        for token_ids, segment_tokens, masked_tokens, masked_idx, is_next in dataloader:\n",
        "\n",
        "            token_ids, segment_tokens = token_ids.to(device), segment_tokens.to(device)\n",
        "            masked_tokens, masked_idx = masked_tokens.to(device), masked_idx.to(device)\n",
        "            is_next = is_next.to(device)\n",
        "\n",
        "            mask = create_padding_mask(token_ids, PAD_TOKEN)\n",
        "            tokens_embedded = bert_embedding(token_ids, segment_tokens)\n",
        "            masked_tokens_logits, nsp_logits = bert_model(tokens_embedded, mask, masked_idx)\n",
        "\n",
        "            masked_tokens_logits = torch.softmax(masked_tokens_logits, dim=-1)\n",
        "            nsp_logits = torch.softmax(nsp_logits, dim=-1)\n",
        "\n",
        "            masked_tokens_loss = masked_loss_fn(masked_tokens_logits, masked_tokens)\n",
        "            nsp_loss = nsp_loss_fn(nsp_logits, is_next)\n",
        "            total_loss = masked_tokens_loss + nsp_loss\n",
        "\n",
        "            optimizer.zero_grad()\n",
        "            total_loss.backward()\n",
        "            optimizer.step()\n",
        "\n",
        "            masked_tokens_losses += masked_tokens_loss.item()\n",
        "            nsp_losses += nsp_loss.item()\n",
        "            masked_token_acc += (masked_tokens_logits.argmax(dim=1).squeeze() == masked_tokens).sum().item()/BATCH_SIZE\n",
        "            nsp_acc += (nsp_logits.argmax(dim=1).squeeze() == is_next).sum().item()/BATCH_SIZE\n",
        "\n",
        "        masked_tokens_losses = masked_tokens_losses/len(dataloader)\n",
        "        nsp_losses = nsp_losses/len(dataloader)\n",
        "        masked_token_acc = masked_token_acc/len(dataloader)\n",
        "        nsp_acc = nsp_acc/len(dataloader)\n",
        "\n",
        "        bert_results[\"masked_tokens_acc\"].append(masked_token_acc)\n",
        "        bert_results[\"masked_tokens_losses\"].append(masked_tokens_losses)\n",
        "        bert_results[\"nsp_losses\"].append(nsp_losses)\n",
        "        bert_results[\"nsp_acc\"].append(nsp_acc)\n",
        "\n",
        "        print(f\"epoch: {epoch+1} masked_tokens_losses: {masked_tokens_losses:.3f} | masked_token_acc: {masked_token_acc:.3f} | nsp_losses: {nsp_losses:.3f} | nsp_acc: {nsp_acc:.3f}\")\n",
        "\n",
        "    return bert_results"
      ]
    },
    {
      "cell_type": "code",
      "execution_count": 19,
      "metadata": {
        "id": "PcNpndijRlWR"
      },
      "outputs": [],
      "source": [
        "bert_model = BERT(num_layers=12, d_model=768, num_heads=12, vocab_size=VOCAB_SIZE)\n",
        "bert_embedding = BERTEmbedding(d_model=768, vocab_size=VOCAB_SIZE)\n",
        "dataloader = torch.utils.data.DataLoader(dataset=IMDBBERTDataset(path=\"../data/IMDB.csv\"),\n",
        "                                         shuffle=True,\n",
        "                                         batch_size=BATCH_SIZE)\n",
        "optimizer = torch.optim.Adam(params=bert_model.parameters(),\n",
        "                             lr=1e-3,\n",
        "                             betas=(0.9, 0.999),\n",
        "                             weight_decay=0.01)\n",
        "masked_loss_fn = nn.CrossEntropyLoss(ignore_index=PAD_TOKEN)\n",
        "nsp_loss_fn = nn.CrossEntropyLoss(ignore_index=PAD_TOKEN)\n",
        "epochs = 5\n",
        "device = \"cuda\" if torch.cuda.is_available() else \"cpu\""
      ]
    },
    {
      "cell_type": "code",
      "execution_count": 20,
      "metadata": {
        "colab": {
          "base_uri": "https://localhost:8080/",
          "height": 138,
          "referenced_widgets": [
            "41906b0c8f15447cb15afb1e3b3832b9",
            "fa7411a8a80c464c8573eb1bdc35430e",
            "03f76e36231a4129a72d3894303739c6",
            "f29bea9a5671486b837d7da7673bf1b2",
            "fdc75c60232646729e9ce15744182550",
            "2dba64d9e472447999b1c7abfc818892",
            "0647ae3174904d2aa7871dde503aed06",
            "0aaf519f0f2143028c3a8a9beb0ea490",
            "df96c0500dba4ddc9f0f5daa68fb5c8f",
            "b60e100507ce444db08b05d65671984a",
            "a6c67c0a77444a4f8b32b7478e74e149"
          ]
        },
        "id": "OAD8DRvaRlWR",
        "outputId": "fdc0586c-8535-4f65-83cd-7c31da72cfe1"
      },
      "outputs": [
        {
          "data": {
            "application/vnd.jupyter.widget-view+json": {
              "model_id": "41906b0c8f15447cb15afb1e3b3832b9",
              "version_major": 2,
              "version_minor": 0
            },
            "text/plain": [
              "  0%|          | 0/5 [00:00<?, ?it/s]"
            ]
          },
          "metadata": {},
          "output_type": "display_data"
        },
        {
          "name": "stdout",
          "output_type": "stream",
          "text": [
            "epoch: 1 masked_tokens_losses: 11.406 | masked_token_acc: 0.022 | nsp_losses: 0.705 | nsp_acc: 0.502\n",
            "epoch: 2 masked_tokens_losses: 11.406 | masked_token_acc: 0.015 | nsp_losses: 0.693 | nsp_acc: 0.504\n",
            "epoch: 3 masked_tokens_losses: 11.406 | masked_token_acc: 0.008 | nsp_losses: 0.693 | nsp_acc: 0.498\n",
            "epoch: 4 masked_tokens_losses: 11.406 | masked_token_acc: 0.002 | nsp_losses: 0.693 | nsp_acc: 0.499\n",
            "epoch: 5 masked_tokens_losses: 11.406 | masked_token_acc: 0.001 | nsp_losses: 0.693 | nsp_acc: 0.504\n"
          ]
        }
      ],
      "source": [
        "bert_results = train_bert(bert_model=bert_model,\n",
        "                          bert_embedding=bert_embedding,\n",
        "                          dataloader=dataloader,\n",
        "                          optimizer=optimizer,\n",
        "                          masked_loss_fn=masked_loss_fn,\n",
        "                          nsp_loss_fn=nsp_loss_fn,\n",
        "                          epochs=5,\n",
        "                          device=device)"
      ]
    },
    {
      "cell_type": "markdown",
      "metadata": {
        "id": "dKVrbiOwuVzb"
      },
      "source": [
        "The accuracy and the loss are not going in the right direction because,\n",
        "* Big sequence length\n",
        "* Shorter training time\n",
        "* Less data\n",
        "* Lack of better optimization technique"
      ]
    }
  ],
  "metadata": {
    "accelerator": "GPU",
    "colab": {
      "provenance": []
    },
    "kernelspec": {
      "display_name": "Python 3",
      "name": "python3"
    },
    "language_info": {
      "codemirror_mode": {
        "name": "ipython",
        "version": 3
      },
      "file_extension": ".py",
      "mimetype": "text/x-python",
      "name": "python",
      "nbconvert_exporter": "python",
      "pygments_lexer": "ipython3",
      "version": "3.11.0"
    },
    "widgets": {
      "application/vnd.jupyter.widget-state+json": {
        "03f76e36231a4129a72d3894303739c6": {
          "model_module": "@jupyter-widgets/controls",
          "model_module_version": "1.5.0",
          "model_name": "FloatProgressModel",
          "state": {
            "_dom_classes": [],
            "_model_module": "@jupyter-widgets/controls",
            "_model_module_version": "1.5.0",
            "_model_name": "FloatProgressModel",
            "_view_count": null,
            "_view_module": "@jupyter-widgets/controls",
            "_view_module_version": "1.5.0",
            "_view_name": "ProgressView",
            "bar_style": "success",
            "description": "",
            "description_tooltip": null,
            "layout": "IPY_MODEL_0aaf519f0f2143028c3a8a9beb0ea490",
            "max": 5,
            "min": 0,
            "orientation": "horizontal",
            "style": "IPY_MODEL_df96c0500dba4ddc9f0f5daa68fb5c8f",
            "value": 5
          }
        },
        "0647ae3174904d2aa7871dde503aed06": {
          "model_module": "@jupyter-widgets/controls",
          "model_module_version": "1.5.0",
          "model_name": "DescriptionStyleModel",
          "state": {
            "_model_module": "@jupyter-widgets/controls",
            "_model_module_version": "1.5.0",
            "_model_name": "DescriptionStyleModel",
            "_view_count": null,
            "_view_module": "@jupyter-widgets/base",
            "_view_module_version": "1.2.0",
            "_view_name": "StyleView",
            "description_width": ""
          }
        },
        "0aaf519f0f2143028c3a8a9beb0ea490": {
          "model_module": "@jupyter-widgets/base",
          "model_module_version": "1.2.0",
          "model_name": "LayoutModel",
          "state": {
            "_model_module": "@jupyter-widgets/base",
            "_model_module_version": "1.2.0",
            "_model_name": "LayoutModel",
            "_view_count": null,
            "_view_module": "@jupyter-widgets/base",
            "_view_module_version": "1.2.0",
            "_view_name": "LayoutView",
            "align_content": null,
            "align_items": null,
            "align_self": null,
            "border": null,
            "bottom": null,
            "display": null,
            "flex": null,
            "flex_flow": null,
            "grid_area": null,
            "grid_auto_columns": null,
            "grid_auto_flow": null,
            "grid_auto_rows": null,
            "grid_column": null,
            "grid_gap": null,
            "grid_row": null,
            "grid_template_areas": null,
            "grid_template_columns": null,
            "grid_template_rows": null,
            "height": null,
            "justify_content": null,
            "justify_items": null,
            "left": null,
            "margin": null,
            "max_height": null,
            "max_width": null,
            "min_height": null,
            "min_width": null,
            "object_fit": null,
            "object_position": null,
            "order": null,
            "overflow": null,
            "overflow_x": null,
            "overflow_y": null,
            "padding": null,
            "right": null,
            "top": null,
            "visibility": null,
            "width": null
          }
        },
        "2dba64d9e472447999b1c7abfc818892": {
          "model_module": "@jupyter-widgets/base",
          "model_module_version": "1.2.0",
          "model_name": "LayoutModel",
          "state": {
            "_model_module": "@jupyter-widgets/base",
            "_model_module_version": "1.2.0",
            "_model_name": "LayoutModel",
            "_view_count": null,
            "_view_module": "@jupyter-widgets/base",
            "_view_module_version": "1.2.0",
            "_view_name": "LayoutView",
            "align_content": null,
            "align_items": null,
            "align_self": null,
            "border": null,
            "bottom": null,
            "display": null,
            "flex": null,
            "flex_flow": null,
            "grid_area": null,
            "grid_auto_columns": null,
            "grid_auto_flow": null,
            "grid_auto_rows": null,
            "grid_column": null,
            "grid_gap": null,
            "grid_row": null,
            "grid_template_areas": null,
            "grid_template_columns": null,
            "grid_template_rows": null,
            "height": null,
            "justify_content": null,
            "justify_items": null,
            "left": null,
            "margin": null,
            "max_height": null,
            "max_width": null,
            "min_height": null,
            "min_width": null,
            "object_fit": null,
            "object_position": null,
            "order": null,
            "overflow": null,
            "overflow_x": null,
            "overflow_y": null,
            "padding": null,
            "right": null,
            "top": null,
            "visibility": null,
            "width": null
          }
        },
        "41906b0c8f15447cb15afb1e3b3832b9": {
          "model_module": "@jupyter-widgets/controls",
          "model_module_version": "1.5.0",
          "model_name": "HBoxModel",
          "state": {
            "_dom_classes": [],
            "_model_module": "@jupyter-widgets/controls",
            "_model_module_version": "1.5.0",
            "_model_name": "HBoxModel",
            "_view_count": null,
            "_view_module": "@jupyter-widgets/controls",
            "_view_module_version": "1.5.0",
            "_view_name": "HBoxView",
            "box_style": "",
            "children": [
              "IPY_MODEL_fa7411a8a80c464c8573eb1bdc35430e",
              "IPY_MODEL_03f76e36231a4129a72d3894303739c6",
              "IPY_MODEL_f29bea9a5671486b837d7da7673bf1b2"
            ],
            "layout": "IPY_MODEL_fdc75c60232646729e9ce15744182550"
          }
        },
        "a6c67c0a77444a4f8b32b7478e74e149": {
          "model_module": "@jupyter-widgets/controls",
          "model_module_version": "1.5.0",
          "model_name": "DescriptionStyleModel",
          "state": {
            "_model_module": "@jupyter-widgets/controls",
            "_model_module_version": "1.5.0",
            "_model_name": "DescriptionStyleModel",
            "_view_count": null,
            "_view_module": "@jupyter-widgets/base",
            "_view_module_version": "1.2.0",
            "_view_name": "StyleView",
            "description_width": ""
          }
        },
        "b60e100507ce444db08b05d65671984a": {
          "model_module": "@jupyter-widgets/base",
          "model_module_version": "1.2.0",
          "model_name": "LayoutModel",
          "state": {
            "_model_module": "@jupyter-widgets/base",
            "_model_module_version": "1.2.0",
            "_model_name": "LayoutModel",
            "_view_count": null,
            "_view_module": "@jupyter-widgets/base",
            "_view_module_version": "1.2.0",
            "_view_name": "LayoutView",
            "align_content": null,
            "align_items": null,
            "align_self": null,
            "border": null,
            "bottom": null,
            "display": null,
            "flex": null,
            "flex_flow": null,
            "grid_area": null,
            "grid_auto_columns": null,
            "grid_auto_flow": null,
            "grid_auto_rows": null,
            "grid_column": null,
            "grid_gap": null,
            "grid_row": null,
            "grid_template_areas": null,
            "grid_template_columns": null,
            "grid_template_rows": null,
            "height": null,
            "justify_content": null,
            "justify_items": null,
            "left": null,
            "margin": null,
            "max_height": null,
            "max_width": null,
            "min_height": null,
            "min_width": null,
            "object_fit": null,
            "object_position": null,
            "order": null,
            "overflow": null,
            "overflow_x": null,
            "overflow_y": null,
            "padding": null,
            "right": null,
            "top": null,
            "visibility": null,
            "width": null
          }
        },
        "df96c0500dba4ddc9f0f5daa68fb5c8f": {
          "model_module": "@jupyter-widgets/controls",
          "model_module_version": "1.5.0",
          "model_name": "ProgressStyleModel",
          "state": {
            "_model_module": "@jupyter-widgets/controls",
            "_model_module_version": "1.5.0",
            "_model_name": "ProgressStyleModel",
            "_view_count": null,
            "_view_module": "@jupyter-widgets/base",
            "_view_module_version": "1.2.0",
            "_view_name": "StyleView",
            "bar_color": null,
            "description_width": ""
          }
        },
        "f29bea9a5671486b837d7da7673bf1b2": {
          "model_module": "@jupyter-widgets/controls",
          "model_module_version": "1.5.0",
          "model_name": "HTMLModel",
          "state": {
            "_dom_classes": [],
            "_model_module": "@jupyter-widgets/controls",
            "_model_module_version": "1.5.0",
            "_model_name": "HTMLModel",
            "_view_count": null,
            "_view_module": "@jupyter-widgets/controls",
            "_view_module_version": "1.5.0",
            "_view_name": "HTMLView",
            "description": "",
            "description_tooltip": null,
            "layout": "IPY_MODEL_b60e100507ce444db08b05d65671984a",
            "placeholder": "​",
            "style": "IPY_MODEL_a6c67c0a77444a4f8b32b7478e74e149",
            "value": " 5/5 [25:53&lt;00:00, 307.42s/it]"
          }
        },
        "fa7411a8a80c464c8573eb1bdc35430e": {
          "model_module": "@jupyter-widgets/controls",
          "model_module_version": "1.5.0",
          "model_name": "HTMLModel",
          "state": {
            "_dom_classes": [],
            "_model_module": "@jupyter-widgets/controls",
            "_model_module_version": "1.5.0",
            "_model_name": "HTMLModel",
            "_view_count": null,
            "_view_module": "@jupyter-widgets/controls",
            "_view_module_version": "1.5.0",
            "_view_name": "HTMLView",
            "description": "",
            "description_tooltip": null,
            "layout": "IPY_MODEL_2dba64d9e472447999b1c7abfc818892",
            "placeholder": "​",
            "style": "IPY_MODEL_0647ae3174904d2aa7871dde503aed06",
            "value": "100%"
          }
        },
        "fdc75c60232646729e9ce15744182550": {
          "model_module": "@jupyter-widgets/base",
          "model_module_version": "1.2.0",
          "model_name": "LayoutModel",
          "state": {
            "_model_module": "@jupyter-widgets/base",
            "_model_module_version": "1.2.0",
            "_model_name": "LayoutModel",
            "_view_count": null,
            "_view_module": "@jupyter-widgets/base",
            "_view_module_version": "1.2.0",
            "_view_name": "LayoutView",
            "align_content": null,
            "align_items": null,
            "align_self": null,
            "border": null,
            "bottom": null,
            "display": null,
            "flex": null,
            "flex_flow": null,
            "grid_area": null,
            "grid_auto_columns": null,
            "grid_auto_flow": null,
            "grid_auto_rows": null,
            "grid_column": null,
            "grid_gap": null,
            "grid_row": null,
            "grid_template_areas": null,
            "grid_template_columns": null,
            "grid_template_rows": null,
            "height": null,
            "justify_content": null,
            "justify_items": null,
            "left": null,
            "margin": null,
            "max_height": null,
            "max_width": null,
            "min_height": null,
            "min_width": null,
            "object_fit": null,
            "object_position": null,
            "order": null,
            "overflow": null,
            "overflow_x": null,
            "overflow_y": null,
            "padding": null,
            "right": null,
            "top": null,
            "visibility": null,
            "width": null
          }
        }
      }
    }
  },
  "nbformat": 4,
  "nbformat_minor": 0
}
