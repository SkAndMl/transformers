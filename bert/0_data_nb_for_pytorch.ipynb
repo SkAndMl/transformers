{
 "cells": [
  {
   "cell_type": "code",
   "execution_count": 28,
   "metadata": {},
   "outputs": [],
   "source": [
    "import torchtext\n",
    "import torch\n",
    "import numpy as np\n",
    "import pandas as pd\n",
    "import random\n",
    "import time\n",
    "\n",
    "from torch.nn.utils.rnn import pad_sequence\n",
    "from torchtext.data.utils import get_tokenizer\n",
    "from torchtext.vocab import build_vocab_from_iterator\n",
    "from torch.utils.data import Dataset, DataLoader\n",
    "\n",
    "from typing import Tuple, List"
   ]
  },
  {
   "cell_type": "code",
   "execution_count": 3,
   "metadata": {},
   "outputs": [
    {
     "data": {
      "text/html": [
       "<div>\n",
       "<style scoped>\n",
       "    .dataframe tbody tr th:only-of-type {\n",
       "        vertical-align: middle;\n",
       "    }\n",
       "\n",
       "    .dataframe tbody tr th {\n",
       "        vertical-align: top;\n",
       "    }\n",
       "\n",
       "    .dataframe thead th {\n",
       "        text-align: right;\n",
       "    }\n",
       "</style>\n",
       "<table border=\"1\" class=\"dataframe\">\n",
       "  <thead>\n",
       "    <tr style=\"text-align: right;\">\n",
       "      <th></th>\n",
       "      <th>review</th>\n",
       "      <th>sentiment</th>\n",
       "    </tr>\n",
       "  </thead>\n",
       "  <tbody>\n",
       "    <tr>\n",
       "      <th>0</th>\n",
       "      <td>One of the other reviewers has mentioned that ...</td>\n",
       "      <td>positive</td>\n",
       "    </tr>\n",
       "    <tr>\n",
       "      <th>1</th>\n",
       "      <td>A wonderful little production. &lt;br /&gt;&lt;br /&gt;The...</td>\n",
       "      <td>positive</td>\n",
       "    </tr>\n",
       "    <tr>\n",
       "      <th>2</th>\n",
       "      <td>I thought this was a wonderful way to spend ti...</td>\n",
       "      <td>positive</td>\n",
       "    </tr>\n",
       "    <tr>\n",
       "      <th>3</th>\n",
       "      <td>Basically there's a family where a little boy ...</td>\n",
       "      <td>negative</td>\n",
       "    </tr>\n",
       "    <tr>\n",
       "      <th>4</th>\n",
       "      <td>Petter Mattei's \"Love in the Time of Money\" is...</td>\n",
       "      <td>positive</td>\n",
       "    </tr>\n",
       "    <tr>\n",
       "      <th>...</th>\n",
       "      <td>...</td>\n",
       "      <td>...</td>\n",
       "    </tr>\n",
       "    <tr>\n",
       "      <th>49995</th>\n",
       "      <td>I thought this movie did a down right good job...</td>\n",
       "      <td>positive</td>\n",
       "    </tr>\n",
       "    <tr>\n",
       "      <th>49996</th>\n",
       "      <td>Bad plot, bad dialogue, bad acting, idiotic di...</td>\n",
       "      <td>negative</td>\n",
       "    </tr>\n",
       "    <tr>\n",
       "      <th>49997</th>\n",
       "      <td>I am a Catholic taught in parochial elementary...</td>\n",
       "      <td>negative</td>\n",
       "    </tr>\n",
       "    <tr>\n",
       "      <th>49998</th>\n",
       "      <td>I'm going to have to disagree with the previou...</td>\n",
       "      <td>negative</td>\n",
       "    </tr>\n",
       "    <tr>\n",
       "      <th>49999</th>\n",
       "      <td>No one expects the Star Trek movies to be high...</td>\n",
       "      <td>negative</td>\n",
       "    </tr>\n",
       "  </tbody>\n",
       "</table>\n",
       "<p>50000 rows × 2 columns</p>\n",
       "</div>"
      ],
      "text/plain": [
       "                                                  review sentiment\n",
       "0      One of the other reviewers has mentioned that ...  positive\n",
       "1      A wonderful little production. <br /><br />The...  positive\n",
       "2      I thought this was a wonderful way to spend ti...  positive\n",
       "3      Basically there's a family where a little boy ...  negative\n",
       "4      Petter Mattei's \"Love in the Time of Money\" is...  positive\n",
       "...                                                  ...       ...\n",
       "49995  I thought this movie did a down right good job...  positive\n",
       "49996  Bad plot, bad dialogue, bad acting, idiotic di...  negative\n",
       "49997  I am a Catholic taught in parochial elementary...  negative\n",
       "49998  I'm going to have to disagree with the previou...  negative\n",
       "49999  No one expects the Star Trek movies to be high...  negative\n",
       "\n",
       "[50000 rows x 2 columns]"
      ]
     },
     "execution_count": 3,
     "metadata": {},
     "output_type": "execute_result"
    }
   ],
   "source": [
    "df = pd.read_csv(\"../data/IMDB.csv\")\n",
    "df"
   ]
  },
  {
   "attachments": {},
   "cell_type": "markdown",
   "metadata": {},
   "source": [
    "## Preparing NSP dataset and Masked dataset"
   ]
  },
  {
   "cell_type": "code",
   "execution_count": 4,
   "metadata": {},
   "outputs": [],
   "source": [
    "MASK_PERCENTANGE = 0.15\n",
    "MASK_PROBABILITY = 0.80"
   ]
  },
  {
   "cell_type": "code",
   "execution_count": 27,
   "metadata": {},
   "outputs": [
    {
     "name": "stdout",
     "output_type": "stream",
     "text": [
      "Masked\n",
      "However, I [MASK] consider it marvelous entertainment typical of Hollywood's golden age.\n",
      "NSP: 1\n",
      "However, I still consider it marvelous entertainment typical of Hollywood's golden age.\n",
      "12\n"
     ]
    }
   ],
   "source": [
    "sents = df.iloc[random.randint(0, df.shape[0]), 0].split(\". \")\n",
    "idx = random.randint(0, len(sents)-1)\n",
    "sent1 = sents[idx]\n",
    "\n",
    "sent1 = sent1.split(\" \")\n",
    "mask_idx = random.randint(0, len(sent1)-1)\n",
    "if random.random() < MASK_PROBABILITY:\n",
    "    sent1[mask_idx] = \"[MASK]\"\n",
    "    print(\"Masked\")\n",
    "    print(\" \".join(sent1))\n",
    "else:\n",
    "    rand_token = random.randint(0, len(sent1)-1)\n",
    "    sent1[mask_idx] = sent1[rand_token]\n",
    "    print(\"Replaced with random token\")\n",
    "    print(\" \".join(sent1))\n",
    "\n",
    "if random.random() <= 0.5:\n",
    "    nsp_sents = \". [SEP] \".join(sents[idx: idx+2])\n",
    "    print(\"NSP: 1\")\n",
    "    print(nsp_sents)\n",
    "    print(len(nsp_sents.split(\" \")))\n",
    "else:\n",
    "    nsp_sents = sents[idx] + \". [SEP] \" + sents[random.randint(idx+1, len(sents))-1]\n",
    "    print(\"NSP: 0\")\n",
    "    print(nsp_sents)\n",
    "    print(len(nsp_sents.split(\" \")))"
   ]
  },
  {
   "cell_type": "code",
   "execution_count": 6,
   "metadata": {},
   "outputs": [],
   "source": [
    "CLS_TOKEN = 0\n",
    "SEP_TOKEN = 1\n",
    "MASK_TOKEN = 2\n",
    "PAD_TOKEN = 3 \n",
    "UNK_TOKEN = 4"
   ]
  },
  {
   "cell_type": "code",
   "execution_count": 7,
   "metadata": {},
   "outputs": [],
   "source": [
    "tokenizer = get_tokenizer(\"spacy\", language=\"en_core_web_sm\")\n",
    "\n",
    "def build_vocab(data_iter):\n",
    "    for sentence in data_iter:\n",
    "        yield tokenizer(sentence)\n",
    "\n",
    "vocab = build_vocab_from_iterator(build_vocab(df[\"review\"].to_list()),\n",
    "                                  min_freq=2,\n",
    "                                  specials=[\"[CLS]\", \"[SEP]\", \"[MASK]\", \"[PAD]\", \"<UNK>\"],\n",
    "                                  special_first=True)\n",
    "vocab.set_default_index(UNK_TOKEN)"
   ]
  },
  {
   "cell_type": "code",
   "execution_count": 8,
   "metadata": {},
   "outputs": [
    {
     "data": {
      "text/plain": [
       "89854"
      ]
     },
     "execution_count": 8,
     "metadata": {},
     "output_type": "execute_result"
    }
   ],
   "source": [
    "len(vocab)"
   ]
  },
  {
   "cell_type": "code",
   "execution_count": 16,
   "metadata": {},
   "outputs": [
    {
     "data": {
      "text/plain": [
       "(4998650, 5001350)"
      ]
     },
     "execution_count": 16,
     "metadata": {},
     "output_type": "execute_result"
    }
   ],
   "source": [
    "less_ = 0\n",
    "more_ = 0\n",
    "for _ in range(10000000):\n",
    "    if random.random()<=0.5:\n",
    "        less_ += 1\n",
    "    else:\n",
    "        more_ += 1\n",
    "less_, more_"
   ]
  },
  {
   "cell_type": "code",
   "execution_count": 40,
   "metadata": {},
   "outputs": [],
   "source": [
    "class IMDBBERTDataset(Dataset):\n",
    "\n",
    "    NSP_PERCENTAGE = 0.50\n",
    "\n",
    "    CLS_TOKEN = 0\n",
    "    SEP_TOKEN = 1\n",
    "    MASK_TOKEN = 2\n",
    "    PAD_TOKEN = 3 \n",
    "    UNK_TOKEN = 4\n",
    "\n",
    "    def __init__(self,\n",
    "                 path: str,\n",
    "                 tokenizer,\n",
    "                 vocab,\n",
    "                 max_sent_len: int=50) -> None:\n",
    "        super().__init__()\n",
    "        self.df = pd.read_csv(path)\n",
    "        self.tokenizer = tokenizer\n",
    "        self.vocab = vocab\n",
    "        self.max_sent_len = max_sent_len\n",
    "        self.df[\"token_ids\"] = 0 # token_ids = 2\n",
    "        self.df[\"masked_token\"] = 0 # masked_token = 3\n",
    "        self.df[\"masked_idx\"] = 0 # masked_idx = 4\n",
    "        self.df[\"is_next\"] = 0 # is_next = 5\n",
    "\n",
    "        self._prepare_data()\n",
    "        \n",
    "\n",
    "    def _prepare_data(self) -> None:\n",
    "        token_ids_list = []\n",
    "        for i in range(self.df.shape[0]):\n",
    "            sentences = self.df.iloc[i, 0].split(\". \")\n",
    "            if random.random() <= self.NSP_PERCENTAGE:\n",
    "                self.df.iat[i, 5] = 0\n",
    "                rand_idx = random.randint(0, len(sentences)-2)\n",
    "                sentences = sentences[rand_idx:rand_idx+2]\n",
    "            else:\n",
    "                self.df.iat[i, 5] = 1\n",
    "                rand_idx = random.randint(1, len(sentences)-1)\n",
    "                sentences = [sentences[rand_idx], sentences[rand_idx-1]]\n",
    "            \n",
    "            sentences = \"[CLS] \" + sentences[0] + \". [SEP] \" + sentences[1]\n",
    "            \n",
    "            if len(sentences.split(\" \")) < self.max_sent_len:\n",
    "                while len(sentences.split(\" \")) < self.max_sent_len:\n",
    "                    sentences += \" [PAD]\"\n",
    "            else:\n",
    "                sentences = \" \".join(sentences.split(\" \")[:self.max_sent_len])\n",
    "            \n",
    "            token_ids = self.vocab(self.tokenizer(sentences))\n",
    "            mask_token, mask_idx = self.SEP_TOKEN, -1\n",
    "            while mask_token == self.SEP_TOKEN:\n",
    "                mask_idx = random.randint(1, len(token_ids)-1)\n",
    "                mask_token = token_ids[mask_idx]\n",
    "            token_ids[mask_idx] = self.MASK_TOKEN\n",
    "            token_ids_list.append(token_ids)\n",
    "            self.df.iat[i, 3] = mask_token\n",
    "            self.df.iat[i, 4] = mask_idx\n",
    "        \n",
    "        self.df[\"token_ids\"] = token_ids_list\n",
    "        \n",
    "    \n",
    "    def __getitem__(self, index: int) -> Tuple[torch.Tensor, int, int, int]:\n",
    "        token_ids = self.df.iloc[index, 2]\n",
    "        masked_token = self.df.iloc[index, 3]\n",
    "        masked_idx = self.df.iloc[index, 4]\n",
    "        is_next = self.df.iloc[index, 5]\n",
    "        return token_ids, masked_token, masked_idx, is_next\n",
    "    \n",
    "    def __len__(self) -> int:\n",
    "        return self.df.shape[0]\n"
   ]
  },
  {
   "cell_type": "code",
   "execution_count": null,
   "metadata": {},
   "outputs": [],
   "source": [
    "ds = IMDBBERTDataset(path=\"../data/IMDB.csv\",\n",
    "                     tokenizer=tokenizer,\n",
    "                     vocab=vocab)"
   ]
  }
 ],
 "metadata": {
  "kernelspec": {
   "display_name": "tf",
   "language": "python",
   "name": "python3"
  },
  "language_info": {
   "codemirror_mode": {
    "name": "ipython",
    "version": 3
   },
   "file_extension": ".py",
   "mimetype": "text/x-python",
   "name": "python",
   "nbconvert_exporter": "python",
   "pygments_lexer": "ipython3",
   "version": "3.11.0"
  },
  "orig_nbformat": 4
 },
 "nbformat": 4,
 "nbformat_minor": 2
}
