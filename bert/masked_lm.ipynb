{
  "cells": [
    {
      "cell_type": "code",
      "execution_count": null,
      "metadata": {
        "colab": {
          "base_uri": "https://localhost:8080/"
        },
        "id": "PEIf80TnVqtO",
        "outputId": "24db6dc1-801e-4a6b-beeb-da972f26fa37"
      },
      "outputs": [
        {
          "output_type": "stream",
          "name": "stdout",
          "text": [
            "Requirement already satisfied: pandas==1.5.3 in /usr/local/lib/python3.10/dist-packages (1.5.3)\n",
            "Requirement already satisfied: python-dateutil>=2.8.1 in /usr/local/lib/python3.10/dist-packages (from pandas==1.5.3) (2.8.2)\n",
            "Requirement already satisfied: pytz>=2020.1 in /usr/local/lib/python3.10/dist-packages (from pandas==1.5.3) (2022.7.1)\n",
            "Requirement already satisfied: numpy>=1.21.0 in /usr/local/lib/python3.10/dist-packages (from pandas==1.5.3) (1.22.4)\n",
            "Requirement already satisfied: six>=1.5 in /usr/local/lib/python3.10/dist-packages (from python-dateutil>=2.8.1->pandas==1.5.3) (1.16.0)\n"
          ]
        }
      ],
      "source": [
        "!pip install pandas==1.5.3"
      ]
    },
    {
      "cell_type": "code",
      "execution_count": null,
      "metadata": {
        "id": "CotKoDkKRFfD"
      },
      "outputs": [],
      "source": [
        "import torch\n",
        "from torch import nn\n",
        "import numpy as np\n",
        "import pandas as pd\n",
        "\n",
        "import random\n",
        "import math\n",
        "from typing import Tuple, List\n",
        "from tqdm.notebook import tqdm\n",
        "\n",
        "from torch.utils.data import Dataset, DataLoader\n",
        "from torchtext.data.utils import get_tokenizer\n",
        "from torchtext.vocab import build_vocab_from_iterator"
      ]
    },
    {
      "cell_type": "code",
      "source": [
        "import os\n",
        "if not os.path.isdir(\"./data\"):\n",
        "  os.mkdir(\"data\")\n",
        "if not os.path.isdir(\"./scripts\"):\n",
        "  os.mkdir(\"scripts\")"
      ],
      "metadata": {
        "id": "CbQfmmy9iC1V"
      },
      "execution_count": null,
      "outputs": []
    },
    {
      "cell_type": "code",
      "source": [
        "URL = \"https://github.com/SK7here/Movie-Review-Sentiment-Analysis/raw/master/IMDB-Dataset.csv\""
      ],
      "metadata": {
        "id": "4aauDAx-k6rd"
      },
      "execution_count": null,
      "outputs": []
    },
    {
      "cell_type": "code",
      "execution_count": null,
      "metadata": {
        "colab": {
          "base_uri": "https://localhost:8080/",
          "height": 424
        },
        "id": "i9aWDP2ZRFfF",
        "outputId": "e6cd2b85-5d14-40a4-b30e-5f26ba9ef138"
      },
      "outputs": [
        {
          "output_type": "execute_result",
          "data": {
            "text/plain": [
              "                                                  review sentiment\n",
              "0      One of the other reviewers has mentioned that ...  positive\n",
              "1      A wonderful little production. <br /><br />The...  positive\n",
              "2      I thought this was a wonderful way to spend ti...  positive\n",
              "3      Basically there's a family where a little boy ...  negative\n",
              "4      Petter Mattei's \"Love in the Time of Money\" is...  positive\n",
              "...                                                  ...       ...\n",
              "49995  I thought this movie did a down right good job...  positive\n",
              "49996  Bad plot, bad dialogue, bad acting, idiotic di...  negative\n",
              "49997  I am a Catholic taught in parochial elementary...  negative\n",
              "49998  I'm going to have to disagree with the previou...  negative\n",
              "49999  No one expects the Star Trek movies to be high...  negative\n",
              "\n",
              "[50000 rows x 2 columns]"
            ],
            "text/html": [
              "\n",
              "\n",
              "  <div id=\"df-96da422d-884d-4394-ad2d-d78e853732e4\">\n",
              "    <div class=\"colab-df-container\">\n",
              "      <div>\n",
              "<style scoped>\n",
              "    .dataframe tbody tr th:only-of-type {\n",
              "        vertical-align: middle;\n",
              "    }\n",
              "\n",
              "    .dataframe tbody tr th {\n",
              "        vertical-align: top;\n",
              "    }\n",
              "\n",
              "    .dataframe thead th {\n",
              "        text-align: right;\n",
              "    }\n",
              "</style>\n",
              "<table border=\"1\" class=\"dataframe\">\n",
              "  <thead>\n",
              "    <tr style=\"text-align: right;\">\n",
              "      <th></th>\n",
              "      <th>review</th>\n",
              "      <th>sentiment</th>\n",
              "    </tr>\n",
              "  </thead>\n",
              "  <tbody>\n",
              "    <tr>\n",
              "      <th>0</th>\n",
              "      <td>One of the other reviewers has mentioned that ...</td>\n",
              "      <td>positive</td>\n",
              "    </tr>\n",
              "    <tr>\n",
              "      <th>1</th>\n",
              "      <td>A wonderful little production. &lt;br /&gt;&lt;br /&gt;The...</td>\n",
              "      <td>positive</td>\n",
              "    </tr>\n",
              "    <tr>\n",
              "      <th>2</th>\n",
              "      <td>I thought this was a wonderful way to spend ti...</td>\n",
              "      <td>positive</td>\n",
              "    </tr>\n",
              "    <tr>\n",
              "      <th>3</th>\n",
              "      <td>Basically there's a family where a little boy ...</td>\n",
              "      <td>negative</td>\n",
              "    </tr>\n",
              "    <tr>\n",
              "      <th>4</th>\n",
              "      <td>Petter Mattei's \"Love in the Time of Money\" is...</td>\n",
              "      <td>positive</td>\n",
              "    </tr>\n",
              "    <tr>\n",
              "      <th>...</th>\n",
              "      <td>...</td>\n",
              "      <td>...</td>\n",
              "    </tr>\n",
              "    <tr>\n",
              "      <th>49995</th>\n",
              "      <td>I thought this movie did a down right good job...</td>\n",
              "      <td>positive</td>\n",
              "    </tr>\n",
              "    <tr>\n",
              "      <th>49996</th>\n",
              "      <td>Bad plot, bad dialogue, bad acting, idiotic di...</td>\n",
              "      <td>negative</td>\n",
              "    </tr>\n",
              "    <tr>\n",
              "      <th>49997</th>\n",
              "      <td>I am a Catholic taught in parochial elementary...</td>\n",
              "      <td>negative</td>\n",
              "    </tr>\n",
              "    <tr>\n",
              "      <th>49998</th>\n",
              "      <td>I'm going to have to disagree with the previou...</td>\n",
              "      <td>negative</td>\n",
              "    </tr>\n",
              "    <tr>\n",
              "      <th>49999</th>\n",
              "      <td>No one expects the Star Trek movies to be high...</td>\n",
              "      <td>negative</td>\n",
              "    </tr>\n",
              "  </tbody>\n",
              "</table>\n",
              "<p>50000 rows × 2 columns</p>\n",
              "</div>\n",
              "      <button class=\"colab-df-convert\" onclick=\"convertToInteractive('df-96da422d-884d-4394-ad2d-d78e853732e4')\"\n",
              "              title=\"Convert this dataframe to an interactive table.\"\n",
              "              style=\"display:none;\">\n",
              "\n",
              "  <svg xmlns=\"http://www.w3.org/2000/svg\" height=\"24px\"viewBox=\"0 0 24 24\"\n",
              "       width=\"24px\">\n",
              "    <path d=\"M0 0h24v24H0V0z\" fill=\"none\"/>\n",
              "    <path d=\"M18.56 5.44l.94 2.06.94-2.06 2.06-.94-2.06-.94-.94-2.06-.94 2.06-2.06.94zm-11 1L8.5 8.5l.94-2.06 2.06-.94-2.06-.94L8.5 2.5l-.94 2.06-2.06.94zm10 10l.94 2.06.94-2.06 2.06-.94-2.06-.94-.94-2.06-.94 2.06-2.06.94z\"/><path d=\"M17.41 7.96l-1.37-1.37c-.4-.4-.92-.59-1.43-.59-.52 0-1.04.2-1.43.59L10.3 9.45l-7.72 7.72c-.78.78-.78 2.05 0 2.83L4 21.41c.39.39.9.59 1.41.59.51 0 1.02-.2 1.41-.59l7.78-7.78 2.81-2.81c.8-.78.8-2.07 0-2.86zM5.41 20L4 18.59l7.72-7.72 1.47 1.35L5.41 20z\"/>\n",
              "  </svg>\n",
              "      </button>\n",
              "\n",
              "\n",
              "\n",
              "    <div id=\"df-59ae4bb2-f93c-40e3-a323-53da433539ac\">\n",
              "      <button class=\"colab-df-quickchart\" onclick=\"quickchart('df-59ae4bb2-f93c-40e3-a323-53da433539ac')\"\n",
              "              title=\"Suggest charts.\"\n",
              "              style=\"display:none;\">\n",
              "\n",
              "<svg xmlns=\"http://www.w3.org/2000/svg\" height=\"24px\"viewBox=\"0 0 24 24\"\n",
              "     width=\"24px\">\n",
              "    <g>\n",
              "        <path d=\"M19 3H5c-1.1 0-2 .9-2 2v14c0 1.1.9 2 2 2h14c1.1 0 2-.9 2-2V5c0-1.1-.9-2-2-2zM9 17H7v-7h2v7zm4 0h-2V7h2v10zm4 0h-2v-4h2v4z\"/>\n",
              "    </g>\n",
              "</svg>\n",
              "      </button>\n",
              "    </div>\n",
              "\n",
              "<style>\n",
              "  .colab-df-quickchart {\n",
              "    background-color: #E8F0FE;\n",
              "    border: none;\n",
              "    border-radius: 50%;\n",
              "    cursor: pointer;\n",
              "    display: none;\n",
              "    fill: #1967D2;\n",
              "    height: 32px;\n",
              "    padding: 0 0 0 0;\n",
              "    width: 32px;\n",
              "  }\n",
              "\n",
              "  .colab-df-quickchart:hover {\n",
              "    background-color: #E2EBFA;\n",
              "    box-shadow: 0px 1px 2px rgba(60, 64, 67, 0.3), 0px 1px 3px 1px rgba(60, 64, 67, 0.15);\n",
              "    fill: #174EA6;\n",
              "  }\n",
              "\n",
              "  [theme=dark] .colab-df-quickchart {\n",
              "    background-color: #3B4455;\n",
              "    fill: #D2E3FC;\n",
              "  }\n",
              "\n",
              "  [theme=dark] .colab-df-quickchart:hover {\n",
              "    background-color: #434B5C;\n",
              "    box-shadow: 0px 1px 3px 1px rgba(0, 0, 0, 0.15);\n",
              "    filter: drop-shadow(0px 1px 2px rgba(0, 0, 0, 0.3));\n",
              "    fill: #FFFFFF;\n",
              "  }\n",
              "</style>\n",
              "\n",
              "    <script>\n",
              "      async function quickchart(key) {\n",
              "        const containerElement = document.querySelector('#' + key);\n",
              "        const charts = await google.colab.kernel.invokeFunction(\n",
              "            'suggestCharts', [key], {});\n",
              "      }\n",
              "    </script>\n",
              "\n",
              "      <script>\n",
              "\n",
              "function displayQuickchartButton(domScope) {\n",
              "  let quickchartButtonEl =\n",
              "    domScope.querySelector('#df-59ae4bb2-f93c-40e3-a323-53da433539ac button.colab-df-quickchart');\n",
              "  quickchartButtonEl.style.display =\n",
              "    google.colab.kernel.accessAllowed ? 'block' : 'none';\n",
              "}\n",
              "\n",
              "        displayQuickchartButton(document);\n",
              "      </script>\n",
              "      <style>\n",
              "    .colab-df-container {\n",
              "      display:flex;\n",
              "      flex-wrap:wrap;\n",
              "      gap: 12px;\n",
              "    }\n",
              "\n",
              "    .colab-df-convert {\n",
              "      background-color: #E8F0FE;\n",
              "      border: none;\n",
              "      border-radius: 50%;\n",
              "      cursor: pointer;\n",
              "      display: none;\n",
              "      fill: #1967D2;\n",
              "      height: 32px;\n",
              "      padding: 0 0 0 0;\n",
              "      width: 32px;\n",
              "    }\n",
              "\n",
              "    .colab-df-convert:hover {\n",
              "      background-color: #E2EBFA;\n",
              "      box-shadow: 0px 1px 2px rgba(60, 64, 67, 0.3), 0px 1px 3px 1px rgba(60, 64, 67, 0.15);\n",
              "      fill: #174EA6;\n",
              "    }\n",
              "\n",
              "    [theme=dark] .colab-df-convert {\n",
              "      background-color: #3B4455;\n",
              "      fill: #D2E3FC;\n",
              "    }\n",
              "\n",
              "    [theme=dark] .colab-df-convert:hover {\n",
              "      background-color: #434B5C;\n",
              "      box-shadow: 0px 1px 3px 1px rgba(0, 0, 0, 0.15);\n",
              "      filter: drop-shadow(0px 1px 2px rgba(0, 0, 0, 0.3));\n",
              "      fill: #FFFFFF;\n",
              "    }\n",
              "  </style>\n",
              "\n",
              "      <script>\n",
              "        const buttonEl =\n",
              "          document.querySelector('#df-96da422d-884d-4394-ad2d-d78e853732e4 button.colab-df-convert');\n",
              "        buttonEl.style.display =\n",
              "          google.colab.kernel.accessAllowed ? 'block' : 'none';\n",
              "\n",
              "        async function convertToInteractive(key) {\n",
              "          const element = document.querySelector('#df-96da422d-884d-4394-ad2d-d78e853732e4');\n",
              "          const dataTable =\n",
              "            await google.colab.kernel.invokeFunction('convertToInteractive',\n",
              "                                                     [key], {});\n",
              "          if (!dataTable) return;\n",
              "\n",
              "          const docLinkHtml = 'Like what you see? Visit the ' +\n",
              "            '<a target=\"_blank\" href=https://colab.research.google.com/notebooks/data_table.ipynb>data table notebook</a>'\n",
              "            + ' to learn more about interactive tables.';\n",
              "          element.innerHTML = '';\n",
              "          dataTable['output_type'] = 'display_data';\n",
              "          await google.colab.output.renderOutput(dataTable, element);\n",
              "          const docLink = document.createElement('div');\n",
              "          docLink.innerHTML = docLinkHtml;\n",
              "          element.appendChild(docLink);\n",
              "        }\n",
              "      </script>\n",
              "    </div>\n",
              "  </div>\n"
            ]
          },
          "metadata": {},
          "execution_count": 20
        }
      ],
      "source": [
        "df = pd.read_csv(URL, encoding=\"utf-8\", engine=\"python\",\n",
        "                 on_bad_lines=\"skip\")\n",
        "df"
      ]
    },
    {
      "cell_type": "markdown",
      "metadata": {
        "id": "n7-I4MD-RFfF"
      },
      "source": [
        "## Build the MaskedLM Dataset"
      ]
    },
    {
      "cell_type": "code",
      "execution_count": null,
      "metadata": {
        "id": "AKu8O0afRFfG"
      },
      "outputs": [],
      "source": [
        "class IMDBMaskedBertDataset(Dataset):\n",
        "\n",
        "    PAD_TOKEN = 0\n",
        "    CLS_TOKEN = 1\n",
        "    SEP_TOKEN = 2\n",
        "    MASK_TOKEN = 3\n",
        "    UNK_TOKEN = 4\n",
        "\n",
        "    SPECIALS = [\"[PAD]\", \"[CLS]\", \"[SEP]\", \"[MASK]\", \"[UNK]\"]\n",
        "\n",
        "    def __init__(self,\n",
        "                 path: str,\n",
        "                 max_len: int=10) -> None:\n",
        "        super().__init__()\n",
        "        self.max_len = max_len\n",
        "        self.df = pd.read_csv(path,\n",
        "                              engine=\"python\",\n",
        "                              on_bad_lines=\"skip\",\n",
        "                              encoding=\"utf-8\")\n",
        "\n",
        "        self.tokenizer = get_tokenizer(tokenizer=\"spacy\",\n",
        "                                       language=\"en_core_web_sm\")\n",
        "\n",
        "        self.masked_tokens = []\n",
        "        self.masked_token_idxs = []\n",
        "        self.sentences = []\n",
        "\n",
        "        self._prepare_data()\n",
        "        self.sentences = torch.tensor(self.sentences)\n",
        "        self.masked_token_idxs = torch.tensor(self.masked_token_idxs)\n",
        "        self.masked_tokens = torch.tensor(self.masked_tokens).squeeze()\n",
        "\n",
        "\n",
        "    def __len__(self) -> int:\n",
        "        return len(self.sentences)\n",
        "\n",
        "    def __getitem__(self, index: int) -> Tuple[torch.Tensor, torch.Tensor, torch.Tensor]:\n",
        "        return self.sentences[index], self.masked_tokens[index], self.masked_token_idxs[index]\n",
        "\n",
        "    def _build_vocab(self, data_iter):\n",
        "        for sent in data_iter:\n",
        "            yield self.tokenizer(sent)\n",
        "\n",
        "\n",
        "    def _prepare_data(self):\n",
        "\n",
        "        for i in range(self.df.shape[0]):\n",
        "            for sent in self.df.iloc[i, 0].split('. '):\n",
        "                if 1 < len(self.tokenizer(sent)) <= self.max_len:\n",
        "                    self.sentences.append(sent)\n",
        "\n",
        "        self.vocab = build_vocab_from_iterator(self._build_vocab(self.sentences),\n",
        "                                               min_freq=2,\n",
        "                                               special_first=True,\n",
        "                                               specials=self.SPECIALS)\n",
        "        self.vocab.set_default_index(self.UNK_TOKEN)\n",
        "\n",
        "        self._mask_data()\n",
        "\n",
        "        for i in range(len(self.sentences)):\n",
        "            self.sentences[i] = self.vocab(self.sentences[i])\n",
        "            self.masked_tokens[i] = self.vocab(self.masked_tokens[i])\n",
        "\n",
        "\n",
        "    def _mask_data(self):\n",
        "\n",
        "        for i in range(len(self.sentences)):\n",
        "            sentence = self.tokenizer(self.sentences[i])\n",
        "            mask_idx = random.randint(0, len(sentence)-1)\n",
        "            self.masked_token_idxs.append(mask_idx+1)\n",
        "            self.masked_tokens.append([sentence[mask_idx]])\n",
        "            sentence[mask_idx] = \"[MASK]\"\n",
        "            sentence = [\"[CLS]\"] + sentence + [\"[SEP]\"]\n",
        "            while len(sentence)<self.max_len+2:\n",
        "                sentence.append(\"[PAD]\")\n",
        "            self.sentences[i] = sentence"
      ]
    },
    {
      "cell_type": "code",
      "execution_count": null,
      "metadata": {
        "id": "mW4Wk6vMRFfH"
      },
      "outputs": [],
      "source": [
        "masked_ds = IMDBMaskedBertDataset(path=URL)"
      ]
    },
    {
      "cell_type": "code",
      "execution_count": null,
      "metadata": {
        "colab": {
          "base_uri": "https://localhost:8080/"
        },
        "id": "XuwjQYJDRFfH",
        "outputId": "3bb761d8-0e09-480c-c2a2-9cf4f0d9986b"
      },
      "outputs": [
        {
          "output_type": "execute_result",
          "data": {
            "text/plain": [
              "(tensor([   1,  100,   67,    3,   88,  709,   57, 2132,    2,    0,    0,    0]),\n",
              " tensor(23),\n",
              " tensor(3))"
            ]
          },
          "metadata": {},
          "execution_count": 23
        }
      ],
      "source": [
        "masked_ds[random.randint(0, len(masked_ds)-1)]"
      ]
    },
    {
      "cell_type": "code",
      "execution_count": null,
      "metadata": {
        "colab": {
          "base_uri": "https://localhost:8080/"
        },
        "id": "2C1m-ISSRFfH",
        "outputId": "459404af-75d6-4f5a-f489-de6c75ebb4d5"
      },
      "outputs": [
        {
          "output_type": "execute_result",
          "data": {
            "text/plain": [
              "(torch.Size([89172, 12]), torch.Size([89172]), torch.Size([89172]))"
            ]
          },
          "metadata": {},
          "execution_count": 24
        }
      ],
      "source": [
        "masked_ds.sentences.shape, masked_ds.masked_tokens.shape, masked_ds.masked_token_idxs.shape"
      ]
    },
    {
      "cell_type": "markdown",
      "metadata": {
        "id": "ScfW4lWjRFfH"
      },
      "source": [
        "## DataLoader"
      ]
    },
    {
      "cell_type": "code",
      "execution_count": null,
      "metadata": {
        "id": "N785OCqbRFfI"
      },
      "outputs": [],
      "source": [
        "BATCH_SIZE = 32\n",
        "VOCAB_SIZE = len(masked_ds.vocab)\n",
        "D_MODEL = 768"
      ]
    },
    {
      "cell_type": "code",
      "execution_count": null,
      "metadata": {
        "id": "kEhJFudwRFfI"
      },
      "outputs": [],
      "source": [
        "data_loader = DataLoader(dataset=masked_ds,\n",
        "                         batch_size=BATCH_SIZE,\n",
        "                         shuffle=True)"
      ]
    },
    {
      "cell_type": "markdown",
      "metadata": {
        "id": "fKUd4IX0RFfI"
      },
      "source": [
        "## BERT Embedding"
      ]
    },
    {
      "cell_type": "markdown",
      "metadata": {
        "id": "AV5swxD6RFfI"
      },
      "source": [
        "Since the `Next Sentence Prediction` is not carried out in this notebook, we need not implement `Segment Embedding` for Masked LM"
      ]
    },
    {
      "cell_type": "code",
      "execution_count": null,
      "metadata": {
        "id": "SdqX8mzFRFfI"
      },
      "outputs": [],
      "source": [
        "class Embedding(nn.Module):\n",
        "\n",
        "    def __init__(self,\n",
        "                 max_len: int=10,\n",
        "                 vocab_size: int=1000,\n",
        "                 d_model: int=768,\n",
        "                 dropout_prob: float=0.1)-> None:\n",
        "        super().__init__()\n",
        "\n",
        "        self.max_len = max_len\n",
        "        self.vocab_size = vocab_size\n",
        "        self.d_model = d_model\n",
        "        self.dropout_prob = dropout_prob\n",
        "\n",
        "        self.embedding = nn.Embedding(num_embeddings=vocab_size,\n",
        "                                      embedding_dim=d_model)\n",
        "\n",
        "\n",
        "        pe = torch.zeros(size=(max_len+2, d_model))\n",
        "        for pos in range(self.max_len):\n",
        "            for i in range(self.d_model):\n",
        "                if i%2==0:\n",
        "                    pe[pos, i] = math.sin(pos/10000**(2*i/d_model))\n",
        "                else:\n",
        "                    pe[pos, i] = math.cos(pos/10000**(2*i/d_model))\n",
        "\n",
        "        self.register_buffer(\"pe\", pe)\n",
        "        self.pe = self.pe.unsqueeze(0)\n",
        "\n",
        "        self.dropout = nn.Dropout(p=dropout_prob)\n",
        "\n",
        "    def __str__(self) -> str:\n",
        "        return f\"Embedding(max_len={self.max_len}, vocab_size={self.vocab_size}, d_model={self.d_model}, dropout_prob={self.dropout_prob})\"\n",
        "\n",
        "    def __repr__(self) -> str:\n",
        "        return f\"Embedding(max_len={self.max_len}, vocab_size={self.vocab_size}, d_model={self.d_model}, dropout_prob={self.dropout_prob})\"\n",
        "\n",
        "    def forward(self,\n",
        "                x: torch.Tensor) -> torch.Tensor:\n",
        "\n",
        "        embedded = self.pe + self.embedding(x)\n",
        "        return self.dropout(embedded)"
      ]
    },
    {
      "cell_type": "code",
      "execution_count": null,
      "metadata": {
        "colab": {
          "base_uri": "https://localhost:8080/"
        },
        "id": "dZFf_Dk5RFfI",
        "outputId": "1a3b9102-3494-4837-92e7-462b593a5189"
      },
      "outputs": [
        {
          "output_type": "stream",
          "name": "stdout",
          "text": [
            "torch.Size([1, 12, 768])\n"
          ]
        }
      ],
      "source": [
        "embedding = Embedding(vocab_size=VOCAB_SIZE,\n",
        "                      d_model=D_MODEL)\n",
        "with torch.inference_mode():\n",
        "    print(embedding(masked_ds[0][0].unsqueeze(0)).shape)"
      ]
    },
    {
      "cell_type": "markdown",
      "metadata": {
        "id": "945lCsPGRFfJ"
      },
      "source": [
        "## BERT model for MaskedLM"
      ]
    },
    {
      "cell_type": "code",
      "execution_count": null,
      "metadata": {
        "id": "itVA4oMFRFfJ"
      },
      "outputs": [],
      "source": [
        "import sys\n",
        "sys.path.insert(0, \"..\")"
      ]
    },
    {
      "cell_type": "code",
      "execution_count": null,
      "metadata": {
        "id": "PyxVcehJTwZk"
      },
      "outputs": [],
      "source": [
        "from scripts.scripts import TransformerEncoder, create_padding_mask"
      ]
    },
    {
      "cell_type": "code",
      "execution_count": null,
      "metadata": {
        "id": "a61VSSYDRFfJ"
      },
      "outputs": [],
      "source": [
        "class BERTMaskedLM(nn.Module):\n",
        "\n",
        "    def __init__(self,\n",
        "                 num_encoders: int=12,\n",
        "                 d_model: int=768,\n",
        "                 num_heads: int=12,\n",
        "                 d_ff: int=3072,\n",
        "                 attn_dropout_prob: float=0.1,\n",
        "                 ff_dropout_prob: float=0.1,\n",
        "                 output_size: int=1000) -> None:\n",
        "\n",
        "        super().__init__()\n",
        "        self.encoder_stack = TransformerEncoder(num_encoders=num_encoders,\n",
        "                                                d_model=d_model,\n",
        "                                                num_heads=num_heads,\n",
        "                                                d_ff=d_ff,\n",
        "                                                attn_dropout=attn_dropout_prob,\n",
        "                                                ff_dropout=ff_dropout_prob)\n",
        "        self.classification_head = nn.Linear(in_features=d_model,\n",
        "                                             out_features=output_size)\n",
        "\n",
        "    def forward(self,\n",
        "                x: torch.Tensor,\n",
        "                mask: torch.Tensor,\n",
        "                masked_token_idxs: torch.Tensor) -> torch.Tensor:\n",
        "\n",
        "        encoder_output = self.encoder_stack(x, mask)\n",
        "        masked_tokens_context = encoder_output[range(len(masked_token_idxs)), masked_token_idxs]\n",
        "        return self.classification_head(masked_tokens_context)"
      ]
    },
    {
      "cell_type": "markdown",
      "metadata": {
        "id": "aEWj6It0RFfJ"
      },
      "source": [
        "## Training"
      ]
    },
    {
      "cell_type": "code",
      "execution_count": null,
      "metadata": {
        "id": "KRibTmUKRFfJ"
      },
      "outputs": [],
      "source": [
        "PAD_TOKEN = 0\n",
        "CLS_TOKEN = 1\n",
        "SEP_TOKEN = 2\n",
        "MASK_TOKEN = 3\n",
        "UNK_TOKEN = 4"
      ]
    },
    {
      "cell_type": "code",
      "execution_count": null,
      "metadata": {
        "id": "U3eQjkgJRFfJ"
      },
      "outputs": [],
      "source": [
        "def train_masked_lm(bert: BERTMaskedLM,\n",
        "                    bert_embedding: Embedding,\n",
        "                    data_loader: DataLoader,\n",
        "                    loss_fn: nn.Module,\n",
        "                    optimizer: torch.optim.Optimizer,\n",
        "                    epochs: int=2,\n",
        "                    device: torch.device=\"cpu\") -> Tuple[List[int], List[int]]:\n",
        "\n",
        "    losses = []\n",
        "    accs = []\n",
        "    bert = bert.to(device)\n",
        "    bert_embedding = bert_embedding.to(device)\n",
        "    bert.train()\n",
        "    for epoch in tqdm(range(1, epochs+1)):\n",
        "        epoch_loss = 0\n",
        "        epoch_acc = 0\n",
        "        for batch, (sentence, masked_token, masked_token_idx) in enumerate(data_loader):\n",
        "            sentence = sentence.to(device)\n",
        "            masked_token = masked_token.to(device)\n",
        "            masked_token_idx = masked_token_idx.to(device)\n",
        "\n",
        "            mask = create_padding_mask(sentence, padding_idx=PAD_TOKEN)\n",
        "            input_embedding = bert_embedding(sentence)\n",
        "            logits = bert(input_embedding, mask, masked_token_idx)\n",
        "\n",
        "            loss = loss_fn(logits.squeeze(), masked_token)\n",
        "            epoch_loss += loss.item()\n",
        "            epoch_acc += (logits.argmax(dim=-1).squeeze()==masked_token).sum()/BATCH_SIZE\n",
        "\n",
        "            optimizer.zero_grad()\n",
        "            loss.backward()\n",
        "            optimizer.step()\n",
        "\n",
        "        epoch_loss /= len(data_loader)\n",
        "        epoch_acc /= len(data_loader)\n",
        "        print(f\"epoch {epoch}: loss: {epoch_loss:.4f} acc: {round(epoch_acc.item()*100, 2)}%\")\n",
        "        losses.append(epoch_loss)\n",
        "        accs.append(epoch_acc)\n",
        "\n",
        "    return losses, accs"
      ]
    },
    {
      "cell_type": "code",
      "execution_count": null,
      "metadata": {
        "id": "gd6QAe6YRFfJ"
      },
      "outputs": [],
      "source": [
        "masked_ds = IMDBMaskedBertDataset(path=URL)"
      ]
    },
    {
      "cell_type": "code",
      "execution_count": null,
      "metadata": {
        "colab": {
          "base_uri": "https://localhost:8080/"
        },
        "id": "yNHfqLJjUXjN",
        "outputId": "accfeaa9-56aa-4cb3-b0fa-a23a386e5ed7"
      },
      "outputs": [
        {
          "output_type": "execute_result",
          "data": {
            "text/plain": [
              "(device(type='cuda'), 16538)"
            ]
          },
          "metadata": {},
          "execution_count": 40
        }
      ],
      "source": [
        "BATCH_SIZE = 32\n",
        "VOCAB_SIZE = len(masked_ds.vocab)\n",
        "D_MODEL = 768\n",
        "DEVICE = torch.device(\"cuda\" if torch.cuda.is_available() else \"cpu\")\n",
        "DEVICE, VOCAB_SIZE"
      ]
    },
    {
      "cell_type": "code",
      "source": [
        "try:\n",
        "  from torchinfo import summary\n",
        "except:\n",
        "  !pip install -q torchinfo\n",
        "  from torchinfo import summary"
      ],
      "metadata": {
        "id": "05qLpocm0wd3"
      },
      "execution_count": null,
      "outputs": []
    },
    {
      "cell_type": "code",
      "execution_count": null,
      "metadata": {
        "id": "opiHcw4DT6Nr"
      },
      "outputs": [],
      "source": [
        "data_loader = DataLoader(dataset=masked_ds,\n",
        "                         batch_size=BATCH_SIZE,\n",
        "                         shuffle=True)\n",
        "bert_embedding = Embedding(vocab_size=VOCAB_SIZE,\n",
        "                           d_model=D_MODEL)\n",
        "bert_masked_lm = BERTMaskedLM(output_size=VOCAB_SIZE)\n",
        "loss_fn = nn.CrossEntropyLoss()\n",
        "optimizer = torch.optim.Adam(params=bert_masked_lm.parameters(),\n",
        "                             lr=1e-3,\n",
        "                             betas=(0.9, 0.999),\n",
        "                             weight_decay=0.01)\n",
        "epochs = 10"
      ]
    },
    {
      "cell_type": "code",
      "source": [
        "summary(model=bert_masked_lm)"
      ],
      "metadata": {
        "colab": {
          "base_uri": "https://localhost:8080/"
        },
        "id": "0F06Jazg0_Ok",
        "outputId": "60463a27-5578-483f-f7b0-2d0bd01f5d4f"
      },
      "execution_count": null,
      "outputs": [
        {
          "output_type": "execute_result",
          "data": {
            "text/plain": [
              "================================================================================\n",
              "Layer (type:depth-idx)                                  Param #\n",
              "================================================================================\n",
              "BERTMaskedLM                                            --\n",
              "├─TransformerEncoder: 1-1                               --\n",
              "│    └─ModuleList: 2-1                                  --\n",
              "│    │    └─TransformerEncoderLayer: 3-1                7,087,872\n",
              "│    │    └─TransformerEncoderLayer: 3-2                7,087,872\n",
              "│    │    └─TransformerEncoderLayer: 3-3                7,087,872\n",
              "│    │    └─TransformerEncoderLayer: 3-4                7,087,872\n",
              "│    │    └─TransformerEncoderLayer: 3-5                7,087,872\n",
              "│    │    └─TransformerEncoderLayer: 3-6                7,087,872\n",
              "│    │    └─TransformerEncoderLayer: 3-7                7,087,872\n",
              "│    │    └─TransformerEncoderLayer: 3-8                7,087,872\n",
              "│    │    └─TransformerEncoderLayer: 3-9                7,087,872\n",
              "│    │    └─TransformerEncoderLayer: 3-10               7,087,872\n",
              "│    │    └─TransformerEncoderLayer: 3-11               7,087,872\n",
              "│    │    └─TransformerEncoderLayer: 3-12               7,087,872\n",
              "├─Linear: 1-2                                           12,717,722\n",
              "================================================================================\n",
              "Total params: 97,772,186\n",
              "Trainable params: 97,772,186\n",
              "Non-trainable params: 0\n",
              "================================================================================"
            ]
          },
          "metadata": {},
          "execution_count": 47
        }
      ]
    },
    {
      "cell_type": "code",
      "execution_count": null,
      "metadata": {
        "colab": {
          "base_uri": "https://localhost:8080/",
          "height": 223,
          "referenced_widgets": [
            "84dd9351b4c04ff1b2387d2c5780d521",
            "f85e0052dfc841dda2ebb04af9bf9d4b",
            "50ebe4f2a5fc4afbae5f7f66639827ad",
            "72802a55b58d414c9eb6880c1b2ce1f6",
            "01d1d1559d5a4d5bb62a9f5d2b376b4f",
            "d1b7b877704a48bb8e3c24d80f37a8ee",
            "c6ad5707a9204d3eac608a6196b79c70",
            "7341dc41b5014170bc97dce4b26c515e",
            "f5aa8281fcef4be6a93a63b79d556ee9",
            "7f0af985a3604c2cace070b11a84bb99",
            "99f2f9a1ec3f4806af1cdaff41b3e824"
          ]
        },
        "id": "lgydYt5jRFfJ",
        "outputId": "a2732ac7-0434-4a88-e1c3-d664808f1532"
      },
      "outputs": [
        {
          "output_type": "display_data",
          "data": {
            "text/plain": [
              "  0%|          | 0/10 [00:00<?, ?it/s]"
            ],
            "application/vnd.jupyter.widget-view+json": {
              "version_major": 2,
              "version_minor": 0,
              "model_id": "84dd9351b4c04ff1b2387d2c5780d521"
            }
          },
          "metadata": {}
        },
        {
          "output_type": "stream",
          "name": "stdout",
          "text": [
            "epoch 1: loss: 6.8570 acc: 3.66%\n",
            "epoch 2: loss: 6.6277 acc: 4.34%\n",
            "epoch 3: loss: 6.6024 acc: 4.35%\n",
            "epoch 4: loss: 6.5948 acc: 4.38%\n",
            "epoch 5: loss: 6.5969 acc: 4.39%\n",
            "epoch 6: loss: 6.5826 acc: 4.44%\n",
            "epoch 7: loss: 6.6071 acc: 4.36%\n",
            "epoch 8: loss: 6.5820 acc: 4.47%\n",
            "epoch 9: loss: 6.6083 acc: 4.4%\n",
            "epoch 10: loss: 6.6050 acc: 4.41%\n"
          ]
        }
      ],
      "source": [
        "losses, accs = train_masked_lm(bert=bert_masked_lm,\n",
        "                               bert_embedding=bert_embedding,\n",
        "                               data_loader=data_loader,\n",
        "                               loss_fn=loss_fn,\n",
        "                               optimizer=optimizer,\n",
        "                               epochs=epochs,\n",
        "                               device=DEVICE)"
      ]
    }
  ],
  "metadata": {
    "accelerator": "GPU",
    "colab": {
      "provenance": [],
      "gpuType": "T4"
    },
    "kernelspec": {
      "display_name": "Python 3",
      "name": "python3"
    },
    "language_info": {
      "codemirror_mode": {
        "name": "ipython",
        "version": 3
      },
      "file_extension": ".py",
      "mimetype": "text/x-python",
      "name": "python",
      "nbconvert_exporter": "python",
      "pygments_lexer": "ipython3",
      "version": "3.11.0"
    },
    "widgets": {
      "application/vnd.jupyter.widget-state+json": {
        "84dd9351b4c04ff1b2387d2c5780d521": {
          "model_module": "@jupyter-widgets/controls",
          "model_name": "HBoxModel",
          "model_module_version": "1.5.0",
          "state": {
            "_dom_classes": [],
            "_model_module": "@jupyter-widgets/controls",
            "_model_module_version": "1.5.0",
            "_model_name": "HBoxModel",
            "_view_count": null,
            "_view_module": "@jupyter-widgets/controls",
            "_view_module_version": "1.5.0",
            "_view_name": "HBoxView",
            "box_style": "",
            "children": [
              "IPY_MODEL_f85e0052dfc841dda2ebb04af9bf9d4b",
              "IPY_MODEL_50ebe4f2a5fc4afbae5f7f66639827ad",
              "IPY_MODEL_72802a55b58d414c9eb6880c1b2ce1f6"
            ],
            "layout": "IPY_MODEL_01d1d1559d5a4d5bb62a9f5d2b376b4f"
          }
        },
        "f85e0052dfc841dda2ebb04af9bf9d4b": {
          "model_module": "@jupyter-widgets/controls",
          "model_name": "HTMLModel",
          "model_module_version": "1.5.0",
          "state": {
            "_dom_classes": [],
            "_model_module": "@jupyter-widgets/controls",
            "_model_module_version": "1.5.0",
            "_model_name": "HTMLModel",
            "_view_count": null,
            "_view_module": "@jupyter-widgets/controls",
            "_view_module_version": "1.5.0",
            "_view_name": "HTMLView",
            "description": "",
            "description_tooltip": null,
            "layout": "IPY_MODEL_d1b7b877704a48bb8e3c24d80f37a8ee",
            "placeholder": "​",
            "style": "IPY_MODEL_c6ad5707a9204d3eac608a6196b79c70",
            "value": "100%"
          }
        },
        "50ebe4f2a5fc4afbae5f7f66639827ad": {
          "model_module": "@jupyter-widgets/controls",
          "model_name": "FloatProgressModel",
          "model_module_version": "1.5.0",
          "state": {
            "_dom_classes": [],
            "_model_module": "@jupyter-widgets/controls",
            "_model_module_version": "1.5.0",
            "_model_name": "FloatProgressModel",
            "_view_count": null,
            "_view_module": "@jupyter-widgets/controls",
            "_view_module_version": "1.5.0",
            "_view_name": "ProgressView",
            "bar_style": "success",
            "description": "",
            "description_tooltip": null,
            "layout": "IPY_MODEL_7341dc41b5014170bc97dce4b26c515e",
            "max": 10,
            "min": 0,
            "orientation": "horizontal",
            "style": "IPY_MODEL_f5aa8281fcef4be6a93a63b79d556ee9",
            "value": 10
          }
        },
        "72802a55b58d414c9eb6880c1b2ce1f6": {
          "model_module": "@jupyter-widgets/controls",
          "model_name": "HTMLModel",
          "model_module_version": "1.5.0",
          "state": {
            "_dom_classes": [],
            "_model_module": "@jupyter-widgets/controls",
            "_model_module_version": "1.5.0",
            "_model_name": "HTMLModel",
            "_view_count": null,
            "_view_module": "@jupyter-widgets/controls",
            "_view_module_version": "1.5.0",
            "_view_name": "HTMLView",
            "description": "",
            "description_tooltip": null,
            "layout": "IPY_MODEL_7f0af985a3604c2cace070b11a84bb99",
            "placeholder": "​",
            "style": "IPY_MODEL_99f2f9a1ec3f4806af1cdaff41b3e824",
            "value": " 10/10 [44:49&lt;00:00, 268.53s/it]"
          }
        },
        "01d1d1559d5a4d5bb62a9f5d2b376b4f": {
          "model_module": "@jupyter-widgets/base",
          "model_name": "LayoutModel",
          "model_module_version": "1.2.0",
          "state": {
            "_model_module": "@jupyter-widgets/base",
            "_model_module_version": "1.2.0",
            "_model_name": "LayoutModel",
            "_view_count": null,
            "_view_module": "@jupyter-widgets/base",
            "_view_module_version": "1.2.0",
            "_view_name": "LayoutView",
            "align_content": null,
            "align_items": null,
            "align_self": null,
            "border": null,
            "bottom": null,
            "display": null,
            "flex": null,
            "flex_flow": null,
            "grid_area": null,
            "grid_auto_columns": null,
            "grid_auto_flow": null,
            "grid_auto_rows": null,
            "grid_column": null,
            "grid_gap": null,
            "grid_row": null,
            "grid_template_areas": null,
            "grid_template_columns": null,
            "grid_template_rows": null,
            "height": null,
            "justify_content": null,
            "justify_items": null,
            "left": null,
            "margin": null,
            "max_height": null,
            "max_width": null,
            "min_height": null,
            "min_width": null,
            "object_fit": null,
            "object_position": null,
            "order": null,
            "overflow": null,
            "overflow_x": null,
            "overflow_y": null,
            "padding": null,
            "right": null,
            "top": null,
            "visibility": null,
            "width": null
          }
        },
        "d1b7b877704a48bb8e3c24d80f37a8ee": {
          "model_module": "@jupyter-widgets/base",
          "model_name": "LayoutModel",
          "model_module_version": "1.2.0",
          "state": {
            "_model_module": "@jupyter-widgets/base",
            "_model_module_version": "1.2.0",
            "_model_name": "LayoutModel",
            "_view_count": null,
            "_view_module": "@jupyter-widgets/base",
            "_view_module_version": "1.2.0",
            "_view_name": "LayoutView",
            "align_content": null,
            "align_items": null,
            "align_self": null,
            "border": null,
            "bottom": null,
            "display": null,
            "flex": null,
            "flex_flow": null,
            "grid_area": null,
            "grid_auto_columns": null,
            "grid_auto_flow": null,
            "grid_auto_rows": null,
            "grid_column": null,
            "grid_gap": null,
            "grid_row": null,
            "grid_template_areas": null,
            "grid_template_columns": null,
            "grid_template_rows": null,
            "height": null,
            "justify_content": null,
            "justify_items": null,
            "left": null,
            "margin": null,
            "max_height": null,
            "max_width": null,
            "min_height": null,
            "min_width": null,
            "object_fit": null,
            "object_position": null,
            "order": null,
            "overflow": null,
            "overflow_x": null,
            "overflow_y": null,
            "padding": null,
            "right": null,
            "top": null,
            "visibility": null,
            "width": null
          }
        },
        "c6ad5707a9204d3eac608a6196b79c70": {
          "model_module": "@jupyter-widgets/controls",
          "model_name": "DescriptionStyleModel",
          "model_module_version": "1.5.0",
          "state": {
            "_model_module": "@jupyter-widgets/controls",
            "_model_module_version": "1.5.0",
            "_model_name": "DescriptionStyleModel",
            "_view_count": null,
            "_view_module": "@jupyter-widgets/base",
            "_view_module_version": "1.2.0",
            "_view_name": "StyleView",
            "description_width": ""
          }
        },
        "7341dc41b5014170bc97dce4b26c515e": {
          "model_module": "@jupyter-widgets/base",
          "model_name": "LayoutModel",
          "model_module_version": "1.2.0",
          "state": {
            "_model_module": "@jupyter-widgets/base",
            "_model_module_version": "1.2.0",
            "_model_name": "LayoutModel",
            "_view_count": null,
            "_view_module": "@jupyter-widgets/base",
            "_view_module_version": "1.2.0",
            "_view_name": "LayoutView",
            "align_content": null,
            "align_items": null,
            "align_self": null,
            "border": null,
            "bottom": null,
            "display": null,
            "flex": null,
            "flex_flow": null,
            "grid_area": null,
            "grid_auto_columns": null,
            "grid_auto_flow": null,
            "grid_auto_rows": null,
            "grid_column": null,
            "grid_gap": null,
            "grid_row": null,
            "grid_template_areas": null,
            "grid_template_columns": null,
            "grid_template_rows": null,
            "height": null,
            "justify_content": null,
            "justify_items": null,
            "left": null,
            "margin": null,
            "max_height": null,
            "max_width": null,
            "min_height": null,
            "min_width": null,
            "object_fit": null,
            "object_position": null,
            "order": null,
            "overflow": null,
            "overflow_x": null,
            "overflow_y": null,
            "padding": null,
            "right": null,
            "top": null,
            "visibility": null,
            "width": null
          }
        },
        "f5aa8281fcef4be6a93a63b79d556ee9": {
          "model_module": "@jupyter-widgets/controls",
          "model_name": "ProgressStyleModel",
          "model_module_version": "1.5.0",
          "state": {
            "_model_module": "@jupyter-widgets/controls",
            "_model_module_version": "1.5.0",
            "_model_name": "ProgressStyleModel",
            "_view_count": null,
            "_view_module": "@jupyter-widgets/base",
            "_view_module_version": "1.2.0",
            "_view_name": "StyleView",
            "bar_color": null,
            "description_width": ""
          }
        },
        "7f0af985a3604c2cace070b11a84bb99": {
          "model_module": "@jupyter-widgets/base",
          "model_name": "LayoutModel",
          "model_module_version": "1.2.0",
          "state": {
            "_model_module": "@jupyter-widgets/base",
            "_model_module_version": "1.2.0",
            "_model_name": "LayoutModel",
            "_view_count": null,
            "_view_module": "@jupyter-widgets/base",
            "_view_module_version": "1.2.0",
            "_view_name": "LayoutView",
            "align_content": null,
            "align_items": null,
            "align_self": null,
            "border": null,
            "bottom": null,
            "display": null,
            "flex": null,
            "flex_flow": null,
            "grid_area": null,
            "grid_auto_columns": null,
            "grid_auto_flow": null,
            "grid_auto_rows": null,
            "grid_column": null,
            "grid_gap": null,
            "grid_row": null,
            "grid_template_areas": null,
            "grid_template_columns": null,
            "grid_template_rows": null,
            "height": null,
            "justify_content": null,
            "justify_items": null,
            "left": null,
            "margin": null,
            "max_height": null,
            "max_width": null,
            "min_height": null,
            "min_width": null,
            "object_fit": null,
            "object_position": null,
            "order": null,
            "overflow": null,
            "overflow_x": null,
            "overflow_y": null,
            "padding": null,
            "right": null,
            "top": null,
            "visibility": null,
            "width": null
          }
        },
        "99f2f9a1ec3f4806af1cdaff41b3e824": {
          "model_module": "@jupyter-widgets/controls",
          "model_name": "DescriptionStyleModel",
          "model_module_version": "1.5.0",
          "state": {
            "_model_module": "@jupyter-widgets/controls",
            "_model_module_version": "1.5.0",
            "_model_name": "DescriptionStyleModel",
            "_view_count": null,
            "_view_module": "@jupyter-widgets/base",
            "_view_module_version": "1.2.0",
            "_view_name": "StyleView",
            "description_width": ""
          }
        }
      }
    }
  },
  "nbformat": 4,
  "nbformat_minor": 0
}